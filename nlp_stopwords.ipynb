{
  "cells": [
    {
      "cell_type": "markdown",
      "metadata": {
        "id": "view-in-github",
        "colab_type": "text"
      },
      "source": [
        "<a href=\"https://colab.research.google.com/github/Maheenms/GoogleCoLab/blob/main/nlp_stopwords.ipynb\" target=\"_parent\"><img src=\"https://colab.research.google.com/assets/colab-badge.svg\" alt=\"Open In Colab\"/></a>"
      ]
    },
    {
      "cell_type": "code",
      "execution_count": 2,
      "metadata": {
        "id": "5dV4zoglpCFN",
        "colab": {
          "base_uri": "https://localhost:8080/"
        },
        "outputId": "41db78d4-3923-40ad-ee8e-2b70dd6a6fe6"
      },
      "outputs": [
        {
          "output_type": "stream",
          "name": "stdout",
          "text": [
            "\r0% [Working]\r            \rHit:1 http://security.ubuntu.com/ubuntu bionic-security InRelease\n",
            "\r0% [Connecting to archive.ubuntu.com (91.189.91.38)] [Connected to cloud.r-proj\r                                                                               \rHit:2 https://cloud.r-project.org/bin/linux/ubuntu bionic-cran40/ InRelease\n",
            "\r                                                                               \rHit:3 http://ppa.launchpad.net/c2d4u.team/c2d4u4.0+/ubuntu bionic InRelease\n",
            "\r                                                                               \rHit:4 http://ppa.launchpad.net/cran/libgit2/ubuntu bionic InRelease\n",
            "\r0% [Connecting to archive.ubuntu.com (91.189.91.38)] [Waiting for headers] [Con\r0% [1 InRelease gpgv 88.7 kB] [Connecting to archive.ubuntu.com (91.189.91.38)]\r                                                                               \rHit:5 http://ppa.launchpad.net/deadsnakes/ppa/ubuntu bionic InRelease\n",
            "\r0% [1 InRelease gpgv 88.7 kB] [Connecting to archive.ubuntu.com (91.189.91.38)]\r                                                                               \rHit:6 http://ppa.launchpad.net/graphics-drivers/ppa/ubuntu bionic InRelease\n",
            "Hit:7 http://archive.ubuntu.com/ubuntu bionic InRelease\n",
            "Hit:8 http://archive.ubuntu.com/ubuntu bionic-updates InRelease\n",
            "Hit:9 http://archive.ubuntu.com/ubuntu bionic-backports InRelease\n",
            "Ign:10 https://developer.download.nvidia.com/compute/machine-learning/repos/ubuntu1804/x86_64  InRelease\n",
            "Hit:11 https://developer.download.nvidia.com/compute/cuda/repos/ubuntu1804/x86_64  InRelease\n",
            "Hit:12 https://developer.download.nvidia.com/compute/machine-learning/repos/ubuntu1804/x86_64  Release\n",
            "Reading package lists... Done\n"
          ]
        }
      ],
      "source": [
        "import os\n",
        "# Find the latest version of spark 3.2  from http://www.apache.org/dist/spark/ and enter as the spark version\n",
        "# For example:\n",
        "# spark_version = 'spark-3.2.2'\n",
        "spark_version = 'spark-3.2.2'\n",
        "\n",
        "os.environ['SPARK_VERSION']=spark_version\n",
        "\n",
        "# Install Spark and Java\n",
        "!apt-get update\n",
        "!apt-get install openjdk-8-jdk-headless -qq > /dev/null\n",
        "!wget -q http://www.apache.org/dist/spark/$SPARK_VERSION/$SPARK_VERSION-bin-hadoop2.7.tgz\n",
        "!tar xf $SPARK_VERSION-bin-hadoop2.7.tgz\n",
        "!pip install -q findspark\n",
        "\n",
        "# Set Environment Variables\n",
        "os.environ[\"JAVA_HOME\"] = \"/usr/lib/jvm/java-8-openjdk-amd64\"\n",
        "os.environ[\"SPARK_HOME\"] = f\"/content/{spark_version}-bin-hadoop2.7\"\n",
        "\n",
        "# Start a SparkSession\n",
        "import findspark\n",
        "findspark.init()"
      ]
    },
    {
      "cell_type": "code",
      "execution_count": 3,
      "metadata": {
        "id": "6pw44DR4w4-H"
      },
      "outputs": [],
      "source": [
        "# Start Spark session\n",
        "from pyspark.sql import SparkSession\n",
        "spark = SparkSession.builder.appName(\"StopWords\").getOrCreate()"
      ]
    },
    {
      "cell_type": "code",
      "execution_count": 4,
      "metadata": {
        "id": "gJuHZ9XfpFtC"
      },
      "outputs": [],
      "source": [
        "from pyspark.ml.feature import Tokenizer, StopWordsRemover"
      ]
    },
    {
      "cell_type": "code",
      "execution_count": 6,
      "metadata": {
        "colab": {
          "base_uri": "https://localhost:8080/"
        },
        "id": "yfZoXrkVpG-h",
        "outputId": "0e8c2415-b22a-4f69-f74d-b905650d8eaf"
      },
      "outputs": [
        {
          "output_type": "stream",
          "name": "stdout",
          "text": [
            "+---+--------------------------------------------------------------+\n",
            "|id |text                                                          |\n",
            "+---+--------------------------------------------------------------+\n",
            "|0  |to water, cloudlike on the bush afar,                         |\n",
            "|1  |shall yet be glad for him, and he shall bless                 |\n",
            "|2  |on its windy site uplifting gabled roof and palisade,         |\n",
            "|3  |(if haply the dark will of fate                               |\n",
            "|4  |jehovah, jove, or lord!                                       |\n",
            "|5  |when the brow is cold as the marble stone,                    |\n",
            "|6  |taking and giving radiance, and the slopes                    |\n",
            "|7  |press hard the hostile towers!                                |\n",
            "|8  |his head is bowed. he thinks on men and kings.                |\n",
            "|9  |with england if the day go hard,                              |\n",
            "|10 |turn in the door once and turn once only                      |\n",
            "|11 |and ever the rocks' disdain;                                  |\n",
            "|12 |that to the next i may resign my roome                        |\n",
            "|13 |and all the honors that he sought to leave                    |\n",
            "|14 |a level space of nameless graves,--                           |\n",
            "|15 |from his lady's white hand caught;                            |\n",
            "|16 |in three distinguish’d parts, with three distinguish’d guides |\n",
            "|17 |a orn'ment o' saciety, in my approprut spear:                 |\n",
            "|18 |ef 'twarn't for studyin' evenins, why, i never 'd ha' ben here|\n",
            "|19 |for ever, if that maiden sits enshrined                       |\n",
            "+---+--------------------------------------------------------------+\n",
            "only showing top 20 rows\n",
            "\n"
          ]
        }
      ],
      "source": [
        "# Read in data from S3 Buckets\n",
        "from pyspark import SparkFiles\n",
        "url =\"https://2u-data-curriculum-team.s3.amazonaws.com/dataviz-classroom/v1.1/22-big-data/day_2/poem_sentiment.csv\"\n",
        "spark.sparkContext.addFile(url)\n",
        "df = spark.read.csv(SparkFiles.get(\"poem_sentiment.csv\"), sep=\",\", header=True)\n",
        "\n",
        "df = df.drop(\"sentiment\") # removes the target column\n",
        "\n",
        "# Show DataFrame\n",
        "df.show(truncate = False)"
      ]
    },
    {
      "cell_type": "code",
      "execution_count": 8,
      "metadata": {
        "id": "G1bQ9T2IpIhB"
      },
      "outputs": [],
      "source": [
        "# Tokenize DataFrame\n",
        "\n",
        "tokenizer= Tokenizer(inputCol = 'text', outputCol='Word List')\n"
      ]
    },
    {
      "cell_type": "code",
      "execution_count": 9,
      "metadata": {
        "id": "2QELSgKSpJwS",
        "colab": {
          "base_uri": "https://localhost:8080/"
        },
        "outputId": "15aeaf7b-c609-4385-e7f6-ade2f0ffb027"
      },
      "outputs": [
        {
          "output_type": "stream",
          "name": "stdout",
          "text": [
            "+---+--------------------------------------------------------------+---------------------------------------------------------------------------+\n",
            "|id |text                                                          |Word List                                                                  |\n",
            "+---+--------------------------------------------------------------+---------------------------------------------------------------------------+\n",
            "|0  |to water, cloudlike on the bush afar,                         |[to, water,, cloudlike, on, the, bush, afar,]                              |\n",
            "|1  |shall yet be glad for him, and he shall bless                 |[shall, yet, be, glad, for, him,, and, he, shall, bless]                   |\n",
            "|2  |on its windy site uplifting gabled roof and palisade,         |[on, its, windy, site, uplifting, gabled, roof, and, palisade,]            |\n",
            "|3  |(if haply the dark will of fate                               |[(if, haply, the, dark, will, of, fate]                                    |\n",
            "|4  |jehovah, jove, or lord!                                       |[jehovah,, jove,, or, lord!]                                               |\n",
            "|5  |when the brow is cold as the marble stone,                    |[when, the, brow, is, cold, as, the, marble, stone,]                       |\n",
            "|6  |taking and giving radiance, and the slopes                    |[taking, and, giving, radiance,, and, the, slopes]                         |\n",
            "|7  |press hard the hostile towers!                                |[press, hard, the, hostile, towers!]                                       |\n",
            "|8  |his head is bowed. he thinks on men and kings.                |[his, head, is, bowed., he, thinks, on, men, and, kings.]                  |\n",
            "|9  |with england if the day go hard,                              |[with, england, if, the, day, go, hard,]                                   |\n",
            "|10 |turn in the door once and turn once only                      |[turn, in, the, door, once, and, turn, once, only]                         |\n",
            "|11 |and ever the rocks' disdain;                                  |[and, ever, the, rocks', disdain;]                                         |\n",
            "|12 |that to the next i may resign my roome                        |[that, to, the, next, i, may, resign, my, roome]                           |\n",
            "|13 |and all the honors that he sought to leave                    |[and, all, the, honors, that, he, sought, to, leave]                       |\n",
            "|14 |a level space of nameless graves,--                           |[a, level, space, of, nameless, graves,--]                                 |\n",
            "|15 |from his lady's white hand caught;                            |[from, his, lady's, white, hand, caught;]                                  |\n",
            "|16 |in three distinguish’d parts, with three distinguish’d guides |[in, three, distinguish’d, parts,, with, three, distinguish’d, guides]     |\n",
            "|17 |a orn'ment o' saciety, in my approprut spear:                 |[a, orn'ment, o', saciety,, in, my, approprut, spear:]                     |\n",
            "|18 |ef 'twarn't for studyin' evenins, why, i never 'd ha' ben here|[ef, 'twarn't, for, studyin', evenins,, why,, i, never, 'd, ha', ben, here]|\n",
            "|19 |for ever, if that maiden sits enshrined                       |[for, ever,, if, that, maiden, sits, enshrined]                            |\n",
            "+---+--------------------------------------------------------------+---------------------------------------------------------------------------+\n",
            "only showing top 20 rows\n",
            "\n"
          ]
        }
      ],
      "source": [
        "# Transform DataFrame\n",
        "\n",
        "df = tokenizer.transform(df) # make the text an array which are separated out with comma\n",
        "df.show(truncate =False)"
      ]
    },
    {
      "cell_type": "code",
      "execution_count": 10,
      "metadata": {
        "id": "PPhEtR9lpK1Y"
      },
      "outputs": [],
      "source": [
        "# Remove stop words\n",
        "\n",
        "stopWordRemover = StopWordsRemover(inputCol='Word List', outputCol= 'Filtered')"
      ]
    },
    {
      "cell_type": "code",
      "execution_count": 11,
      "metadata": {
        "id": "DzYMpQprpMuI",
        "colab": {
          "base_uri": "https://localhost:8080/"
        },
        "outputId": "bc8386ee-dee0-4318-da37-cdffc805fd79"
      },
      "outputs": [
        {
          "output_type": "stream",
          "name": "stdout",
          "text": [
            "+---+--------------------------------------------------------------+---------------------------------------------------------------------------+-------------------------------------------------------------+\n",
            "|id |text                                                          |Word List                                                                  |Filtered                                                     |\n",
            "+---+--------------------------------------------------------------+---------------------------------------------------------------------------+-------------------------------------------------------------+\n",
            "|0  |to water, cloudlike on the bush afar,                         |[to, water,, cloudlike, on, the, bush, afar,]                              |[water,, cloudlike, bush, afar,]                             |\n",
            "|1  |shall yet be glad for him, and he shall bless                 |[shall, yet, be, glad, for, him,, and, he, shall, bless]                   |[shall, yet, glad, him,, shall, bless]                       |\n",
            "|2  |on its windy site uplifting gabled roof and palisade,         |[on, its, windy, site, uplifting, gabled, roof, and, palisade,]            |[windy, site, uplifting, gabled, roof, palisade,]            |\n",
            "|3  |(if haply the dark will of fate                               |[(if, haply, the, dark, will, of, fate]                                    |[(if, haply, dark, fate]                                     |\n",
            "|4  |jehovah, jove, or lord!                                       |[jehovah,, jove,, or, lord!]                                               |[jehovah,, jove,, lord!]                                     |\n",
            "|5  |when the brow is cold as the marble stone,                    |[when, the, brow, is, cold, as, the, marble, stone,]                       |[brow, cold, marble, stone,]                                 |\n",
            "|6  |taking and giving radiance, and the slopes                    |[taking, and, giving, radiance,, and, the, slopes]                         |[taking, giving, radiance,, slopes]                          |\n",
            "|7  |press hard the hostile towers!                                |[press, hard, the, hostile, towers!]                                       |[press, hard, hostile, towers!]                              |\n",
            "|8  |his head is bowed. he thinks on men and kings.                |[his, head, is, bowed., he, thinks, on, men, and, kings.]                  |[head, bowed., thinks, men, kings.]                          |\n",
            "|9  |with england if the day go hard,                              |[with, england, if, the, day, go, hard,]                                   |[england, day, go, hard,]                                    |\n",
            "|10 |turn in the door once and turn once only                      |[turn, in, the, door, once, and, turn, once, only]                         |[turn, door, turn]                                           |\n",
            "|11 |and ever the rocks' disdain;                                  |[and, ever, the, rocks', disdain;]                                         |[ever, rocks', disdain;]                                     |\n",
            "|12 |that to the next i may resign my roome                        |[that, to, the, next, i, may, resign, my, roome]                           |[next, may, resign, roome]                                   |\n",
            "|13 |and all the honors that he sought to leave                    |[and, all, the, honors, that, he, sought, to, leave]                       |[honors, sought, leave]                                      |\n",
            "|14 |a level space of nameless graves,--                           |[a, level, space, of, nameless, graves,--]                                 |[level, space, nameless, graves,--]                          |\n",
            "|15 |from his lady's white hand caught;                            |[from, his, lady's, white, hand, caught;]                                  |[lady's, white, hand, caught;]                               |\n",
            "|16 |in three distinguish’d parts, with three distinguish’d guides |[in, three, distinguish’d, parts,, with, three, distinguish’d, guides]     |[three, distinguish’d, parts,, three, distinguish’d, guides] |\n",
            "|17 |a orn'ment o' saciety, in my approprut spear:                 |[a, orn'ment, o', saciety,, in, my, approprut, spear:]                     |[orn'ment, o', saciety,, approprut, spear:]                  |\n",
            "|18 |ef 'twarn't for studyin' evenins, why, i never 'd ha' ben here|[ef, 'twarn't, for, studyin', evenins,, why,, i, never, 'd, ha', ben, here]|[ef, 'twarn't, studyin', evenins,, why,, never, 'd, ha', ben]|\n",
            "|19 |for ever, if that maiden sits enshrined                       |[for, ever,, if, that, maiden, sits, enshrined]                            |[ever,, maiden, sits, enshrined]                             |\n",
            "+---+--------------------------------------------------------------+---------------------------------------------------------------------------+-------------------------------------------------------------+\n",
            "only showing top 20 rows\n",
            "\n"
          ]
        }
      ],
      "source": [
        "# Transform new DataFrame\n",
        "df = stopWordRemover.transform(df)\n",
        "df.show(truncate = False)"
      ]
    },
    {
      "cell_type": "code",
      "execution_count": 12,
      "metadata": {
        "id": "kWWje48bpN4g",
        "colab": {
          "base_uri": "https://localhost:8080/"
        },
        "outputId": "283809e9-e3fc-49c9-9726-591d5b68fdad"
      },
      "outputs": [
        {
          "output_type": "stream",
          "name": "stdout",
          "text": [
            "+-------------------------------------------------------------+\n",
            "|Filtered                                                     |\n",
            "+-------------------------------------------------------------+\n",
            "|[water,, cloudlike, bush, afar,]                             |\n",
            "|[shall, yet, glad, him,, shall, bless]                       |\n",
            "|[windy, site, uplifting, gabled, roof, palisade,]            |\n",
            "|[(if, haply, dark, fate]                                     |\n",
            "|[jehovah,, jove,, lord!]                                     |\n",
            "|[brow, cold, marble, stone,]                                 |\n",
            "|[taking, giving, radiance,, slopes]                          |\n",
            "|[press, hard, hostile, towers!]                              |\n",
            "|[head, bowed., thinks, men, kings.]                          |\n",
            "|[england, day, go, hard,]                                    |\n",
            "|[turn, door, turn]                                           |\n",
            "|[ever, rocks', disdain;]                                     |\n",
            "|[next, may, resign, roome]                                   |\n",
            "|[honors, sought, leave]                                      |\n",
            "|[level, space, nameless, graves,--]                          |\n",
            "|[lady's, white, hand, caught;]                               |\n",
            "|[three, distinguish’d, parts,, three, distinguish’d, guides] |\n",
            "|[orn'ment, o', saciety,, approprut, spear:]                  |\n",
            "|[ef, 'twarn't, studyin', evenins,, why,, never, 'd, ha', ben]|\n",
            "|[ever,, maiden, sits, enshrined]                             |\n",
            "+-------------------------------------------------------------+\n",
            "only showing top 20 rows\n",
            "\n"
          ]
        }
      ],
      "source": [
        "# Show simplified review\n",
        "\n",
        "df.select('Filtered').show(truncate =False)"
      ]
    },
    {
      "cell_type": "code",
      "execution_count": null,
      "metadata": {
        "id": "ag8-7q4EpOOI"
      },
      "outputs": [],
      "source": []
    }
  ],
  "metadata": {
    "colab": {
      "provenance": [],
      "collapsed_sections": [],
      "include_colab_link": true
    },
    "kernelspec": {
      "display_name": "Python 3",
      "language": "python",
      "name": "python3"
    },
    "language_info": {
      "codemirror_mode": {
        "name": "ipython",
        "version": 3
      },
      "file_extension": ".py",
      "mimetype": "text/x-python",
      "name": "python",
      "nbconvert_exporter": "python",
      "pygments_lexer": "ipython3",
      "version": "3.8.8"
    },
    "latex_envs": {
      "LaTeX_envs_menu_present": true,
      "autoclose": false,
      "autocomplete": true,
      "bibliofile": "biblio.bib",
      "cite_by": "apalike",
      "current_citInitial": 1,
      "eqLabelWithNumbers": true,
      "eqNumInitial": 1,
      "hotkeys": {
        "equation": "Ctrl-E",
        "itemize": "Ctrl-I"
      },
      "labels_anchors": false,
      "latex_user_defs": false,
      "report_style_numbering": false,
      "user_envs_cfg": false
    }
  },
  "nbformat": 4,
  "nbformat_minor": 0
}