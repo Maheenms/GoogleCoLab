{
  "cells": [
    {
      "cell_type": "markdown",
      "metadata": {
        "id": "view-in-github",
        "colab_type": "text"
      },
      "source": [
        "<a href=\"https://colab.research.google.com/github/Maheenms/GoogleCoLab/blob/main/unreal_restaurant_tweets.ipynb\" target=\"_parent\"><img src=\"https://colab.research.google.com/assets/colab-badge.svg\" alt=\"Open In Colab\"/></a>"
      ]
    },
    {
      "cell_type": "code",
      "execution_count": 10,
      "metadata": {
        "id": "bbxiwgkurXRp",
        "colab": {
          "base_uri": "https://localhost:8080/"
        },
        "outputId": "ea007626-4175-4636-de0a-e1537e137348"
      },
      "outputs": [
        {
          "output_type": "stream",
          "name": "stdout",
          "text": [
            "\r0% [Working]\r            \rHit:1 http://security.ubuntu.com/ubuntu bionic-security InRelease\n",
            "\r            \rHit:2 https://cloud.r-project.org/bin/linux/ubuntu bionic-cran40/ InRelease\n",
            "\r0% [Connecting to archive.ubuntu.com (185.125.190.36)] [Connected to developer.\r0% [1 InRelease gpgv 88.7 kB] [Connecting to archive.ubuntu.com (185.125.190.36\r                                                                               \rHit:3 http://archive.ubuntu.com/ubuntu bionic InRelease\n",
            "Hit:4 http://ppa.launchpad.net/c2d4u.team/c2d4u4.0+/ubuntu bionic InRelease\n",
            "Ign:5 https://developer.download.nvidia.com/compute/machine-learning/repos/ubuntu1804/x86_64  InRelease\n",
            "Hit:6 http://archive.ubuntu.com/ubuntu bionic-updates InRelease\n",
            "Hit:7 https://developer.download.nvidia.com/compute/cuda/repos/ubuntu1804/x86_64  InRelease\n",
            "Hit:8 https://developer.download.nvidia.com/compute/machine-learning/repos/ubuntu1804/x86_64  Release\n",
            "Hit:9 http://archive.ubuntu.com/ubuntu bionic-backports InRelease\n",
            "Hit:10 http://ppa.launchpad.net/cran/libgit2/ubuntu bionic InRelease\n",
            "Hit:11 http://ppa.launchpad.net/deadsnakes/ppa/ubuntu bionic InRelease\n",
            "Hit:12 http://ppa.launchpad.net/graphics-drivers/ppa/ubuntu bionic InRelease\n",
            "Reading package lists... Done\n"
          ]
        }
      ],
      "source": [
        "import os\n",
        "# Find the latest version of spark 3.2  from http://www.apache.org/dist/spark/ and enter as the spark version\n",
        "# For example:\n",
        "# spark_version = 'spark-3.2.2'\n",
        "spark_version = 'spark-3.2.2'\n",
        "\n",
        "os.environ['SPARK_VERSION']=spark_version\n",
        "\n",
        "# Install Spark and Java\n",
        "!apt-get update\n",
        "!apt-get install openjdk-8-jdk-headless -qq > /dev/null\n",
        "!wget -q http://www.apache.org/dist/spark/$SPARK_VERSION/$SPARK_VERSION-bin-hadoop2.7.tgz\n",
        "!tar xf $SPARK_VERSION-bin-hadoop2.7.tgz\n",
        "!pip install -q findspark\n",
        "\n",
        "# Set Environment Variables\n",
        "os.environ[\"JAVA_HOME\"] = \"/usr/lib/jvm/java-8-openjdk-amd64\"\n",
        "os.environ[\"SPARK_HOME\"] = f\"/content/{spark_version}-bin-hadoop2.7\"\n",
        "\n",
        "# Start a SparkSession\n",
        "import findspark\n",
        "findspark.init()"
      ]
    },
    {
      "cell_type": "code",
      "execution_count": 25,
      "metadata": {
        "id": "XBhFOsiSpcU5"
      },
      "outputs": [],
      "source": [
        "# Start Spark session\n",
        "from pyspark.sql import SparkSession\n",
        "spark = SparkSession.builder.appName(\"Hashing\").getOrCreate()"
      ]
    },
    {
      "cell_type": "code",
      "execution_count": 26,
      "metadata": {
        "id": "Gm2w7_HVrbzG"
      },
      "outputs": [],
      "source": [
        "from pyspark.ml.feature import HashingTF, IDF, Tokenizer, StopWordsRemover"
      ]
    },
    {
      "cell_type": "code",
      "execution_count": 27,
      "metadata": {
        "colab": {
          "base_uri": "https://localhost:8080/"
        },
        "id": "HzR-jqELrdL0",
        "outputId": "faab7861-f348-40d4-ccfa-5fc5937b7f9c"
      },
      "outputs": [
        {
          "output_type": "stream",
          "name": "stdout",
          "text": [
            "+----------------------------------------------------------------------------------------------------------------------+\n",
            "|Restaurant Tweets                                                                                                     |\n",
            "+----------------------------------------------------------------------------------------------------------------------+\n",
            "|@UnrealRestaurant service was super slow today. Pick up your game, or I'm not going back.                             |\n",
            "|@UnrealRestaurant Not so sure about the underwater restaurant experience. Kinda felt like I was drowning.             |\n",
            "|@UnrealRestaurant when I'm away, you're all I think about. You make me feel like a natural mermaid.                   |\n",
            "|@UnrealRestaurant Are your opening hours listed online accurate? You were closed at 4pm Monday.                       |\n",
            "|\"@UnrealRestaurant The \"\"pineapple-under-the-sea\"\" menu item makes me feel bad for Spongebob. Don't eat his house. :(\"|\n",
            "+----------------------------------------------------------------------------------------------------------------------+\n",
            "\n"
          ]
        }
      ],
      "source": [
        "# Read in data from S3 Buckets\n",
        "from pyspark import SparkFiles\n",
        "url =\"https://2u-data-curriculum-team.s3.amazonaws.com/dataviz-classroom/v1.1/22-big-data/day_2/unreal_restaurant_tweets.csv\"\n",
        "spark.sparkContext.addFile(url)\n",
        "df = spark.read.csv(SparkFiles.get(\"unreal_restaurant_tweets.csv\"), sep=\",\", header=True)\n",
        "\n",
        "# Show DataFrame\n",
        "df.show(truncate = False)"
      ]
    },
    {
      "cell_type": "code",
      "execution_count": 28,
      "metadata": {
        "id": "h9tlAbZ2relU",
        "colab": {
          "base_uri": "https://localhost:8080/"
        },
        "outputId": "7f54e4db-fcd4-40de-d5b3-281f9820b2bd"
      },
      "outputs": [
        {
          "output_type": "stream",
          "name": "stdout",
          "text": [
            "+----------------------------------------------------------------------------------------------------------------------+---------------------------------------------------------------------------------------------------------------------------------------+\n",
            "|Restaurant Tweets                                                                                                     |Word List                                                                                                                              |\n",
            "+----------------------------------------------------------------------------------------------------------------------+---------------------------------------------------------------------------------------------------------------------------------------+\n",
            "|@UnrealRestaurant service was super slow today. Pick up your game, or I'm not going back.                             |[@unrealrestaurant, service, was, super, slow, today., pick, up, your, game,, or, i'm, not, going, back.]                              |\n",
            "|@UnrealRestaurant Not so sure about the underwater restaurant experience. Kinda felt like I was drowning.             |[@unrealrestaurant, not, so, sure, about, the, underwater, restaurant, experience., kinda, felt, like, i, was, drowning.]              |\n",
            "|@UnrealRestaurant when I'm away, you're all I think about. You make me feel like a natural mermaid.                   |[@unrealrestaurant, when, i'm, away,, you're, all, i, think, about., you, make, me, feel, like, a, natural, mermaid.]                  |\n",
            "|@UnrealRestaurant Are your opening hours listed online accurate? You were closed at 4pm Monday.                       |[@unrealrestaurant, are, your, opening, hours, listed, online, accurate?, you, were, closed, at, 4pm, monday.]                         |\n",
            "|\"@UnrealRestaurant The \"\"pineapple-under-the-sea\"\" menu item makes me feel bad for Spongebob. Don't eat his house. :(\"|[\"@unrealrestaurant, the, \"\"pineapple-under-the-sea\"\", menu, item, makes, me, feel, bad, for, spongebob., don't, eat, his, house., :(\"]|\n",
            "+----------------------------------------------------------------------------------------------------------------------+---------------------------------------------------------------------------------------------------------------------------------------+\n",
            "\n"
          ]
        }
      ],
      "source": [
        "# Tokenize DataFrame\n",
        "tokenizer = Tokenizer(inputCol = \"Restaurant Tweets\", outputCol = \"Word List\")\n",
        "df= tokenizer.transform(df)\n",
        "df.show(truncate = False)"
      ]
    },
    {
      "cell_type": "code",
      "execution_count": 29,
      "metadata": {
        "id": "8oGgjAHcrfw0",
        "colab": {
          "base_uri": "https://localhost:8080/"
        },
        "outputId": "0596d2f7-4f5c-44b6-880c-c8a8fa01197c"
      },
      "outputs": [
        {
          "output_type": "stream",
          "name": "stdout",
          "text": [
            "+----------------------------------------------------------------------------------------------------------------------+---------------------------------------------------------------------------------------------------------------------------------------+-------------------------------------------------------------------------------------------------------------------+-----------------------------------------------------------------------------------------+\n",
            "|Restaurant Tweets                                                                                                     |Word List                                                                                                                              |Filtered                                                                                                           |More Filtered                                                                            |\n",
            "+----------------------------------------------------------------------------------------------------------------------+---------------------------------------------------------------------------------------------------------------------------------------+-------------------------------------------------------------------------------------------------------------------+-----------------------------------------------------------------------------------------+\n",
            "|@UnrealRestaurant service was super slow today. Pick up your game, or I'm not going back.                             |[@unrealrestaurant, service, was, super, slow, today., pick, up, your, game,, or, i'm, not, going, back.]                              |[service, was, super, slow, today., pick, up, your, game,, or, i'm, not, going, back.]                             |[service, super, slow, today., pick, game,, going, back.]                                |\n",
            "|@UnrealRestaurant Not so sure about the underwater restaurant experience. Kinda felt like I was drowning.             |[@unrealrestaurant, not, so, sure, about, the, underwater, restaurant, experience., kinda, felt, like, i, was, drowning.]              |[not, so, sure, about, the, underwater, restaurant, experience., kinda, felt, like, i, was, drowning.]             |[sure, underwater, restaurant, experience., kinda, felt, like, drowning.]                |\n",
            "|@UnrealRestaurant when I'm away, you're all I think about. You make me feel like a natural mermaid.                   |[@unrealrestaurant, when, i'm, away,, you're, all, i, think, about., you, make, me, feel, like, a, natural, mermaid.]                  |[when, i'm, away,, you're, all, i, think, about., you, make, me, feel, like, a, natural, mermaid.]                 |[away,, think, about., make, feel, like, natural, mermaid.]                              |\n",
            "|@UnrealRestaurant Are your opening hours listed online accurate? You were closed at 4pm Monday.                       |[@unrealrestaurant, are, your, opening, hours, listed, online, accurate?, you, were, closed, at, 4pm, monday.]                         |[are, your, opening, hours, listed, online, accurate?, you, were, closed, at, 4pm, monday.]                        |[opening, hours, listed, online, accurate?, closed, 4pm, monday.]                        |\n",
            "|\"@UnrealRestaurant The \"\"pineapple-under-the-sea\"\" menu item makes me feel bad for Spongebob. Don't eat his house. :(\"|[\"@unrealrestaurant, the, \"\"pineapple-under-the-sea\"\", menu, item, makes, me, feel, bad, for, spongebob., don't, eat, his, house., :(\"]|[the, \"\"pineapple-under-the-sea\"\", menu, item, makes, me, feel, bad, for, spongebob., don't, eat, his, house., :(\"]|[\"\"pineapple-under-the-sea\"\", menu, item, makes, feel, bad, spongebob., eat, house., :(\"]|\n",
            "+----------------------------------------------------------------------------------------------------------------------+---------------------------------------------------------------------------------------------------------------------------------------+-------------------------------------------------------------------------------------------------------------------+-----------------------------------------------------------------------------------------+\n",
            "\n"
          ]
        }
      ],
      "source": [
        "# Remove stop words\n",
        "  # use the custom stop word remover - overrides the default stop word remover\n",
        "  # custom stop word remover only removes listed words\n",
        "\n",
        "# list of custom stop words\n",
        "stopWordsList = [\"@UnrealRestaurant\", \"@unrealrestaurant\", \"\\\"@unrealrestaurant\"]\n",
        "\n",
        "# use the custom stop word remover\n",
        "stopRemover = StopWordsRemover(inputCol=\"Word List\", outputCol=\"Filtered\", stopWords=stopWordsList)\n",
        "\n",
        "# apply the custom stop word remover\n",
        "df = stopRemover.transform(df)\n",
        "\n",
        "# use the default stop word remover\n",
        "stopRemover2 = StopWordsRemover(inputCol=\"Filtered\", outputCol=\"More Filtered\")\n",
        "\n",
        "# apply the default stop word remover\n",
        "df = stopRemover2.transform(df)\n",
        "\n",
        "df.show(truncate=False)"
      ]
    },
    {
      "cell_type": "code",
      "execution_count": 30,
      "metadata": {
        "id": "aghpXi5Crg8t",
        "colab": {
          "base_uri": "https://localhost:8080/"
        },
        "outputId": "d1daa1f4-3b48-49ce-ff1f-7b708c199118"
      },
      "outputs": [
        {
          "output_type": "stream",
          "name": "stdout",
          "text": [
            "+----------------------------------------------------------------------------------------------------------------------+---------------------------------------------------------------------------------------------------------------------------------------+-------------------------------------------------------------------------------------------------------------------+-----------------------------------------------------------------------------------------+-----------------------------------------------------------------------------------------------------------------------+\n",
            "|Restaurant Tweets                                                                                                     |Word List                                                                                                                              |Filtered                                                                                                           |More Filtered                                                                            |Hashing Frequencies                                                                                                    |\n",
            "+----------------------------------------------------------------------------------------------------------------------+---------------------------------------------------------------------------------------------------------------------------------------+-------------------------------------------------------------------------------------------------------------------+-----------------------------------------------------------------------------------------+-----------------------------------------------------------------------------------------------------------------------+\n",
            "|@UnrealRestaurant service was super slow today. Pick up your game, or I'm not going back.                             |[@unrealrestaurant, service, was, super, slow, today., pick, up, your, game,, or, i'm, not, going, back.]                              |[service, was, super, slow, today., pick, up, your, game,, or, i'm, not, going, back.]                             |[service, super, slow, today., pick, game,, going, back.]                                |(262144,[27707,43756,58339,102382,104220,127310,184689,210090],[1.0,1.0,1.0,1.0,1.0,1.0,1.0,1.0])                      |\n",
            "|@UnrealRestaurant Not so sure about the underwater restaurant experience. Kinda felt like I was drowning.             |[@unrealrestaurant, not, so, sure, about, the, underwater, restaurant, experience., kinda, felt, like, i, was, drowning.]              |[not, so, sure, about, the, underwater, restaurant, experience., kinda, felt, like, i, was, drowning.]             |[sure, underwater, restaurant, experience., kinda, felt, like, drowning.]                |(262144,[30497,53839,130345,134125,172780,175529,208258,245912],[1.0,1.0,1.0,1.0,1.0,1.0,1.0,1.0])                     |\n",
            "|@UnrealRestaurant when I'm away, you're all I think about. You make me feel like a natural mermaid.                   |[@unrealrestaurant, when, i'm, away,, you're, all, i, think, about., you, make, me, feel, like, a, natural, mermaid.]                  |[when, i'm, away,, you're, all, i, think, about., you, make, me, feel, like, a, natural, mermaid.]                 |[away,, think, about., make, feel, like, natural, mermaid.]                              |(262144,[33211,54800,61899,89717,153423,153484,208258,256508],[1.0,1.0,1.0,1.0,1.0,1.0,1.0,1.0])                       |\n",
            "|@UnrealRestaurant Are your opening hours listed online accurate? You were closed at 4pm Monday.                       |[@unrealrestaurant, are, your, opening, hours, listed, online, accurate?, you, were, closed, at, 4pm, monday.]                         |[are, your, opening, hours, listed, online, accurate?, you, were, closed, at, 4pm, monday.]                        |[opening, hours, listed, online, accurate?, closed, 4pm, monday.]                        |(262144,[8408,50671,96266,103159,109526,111255,204359,241088],[1.0,1.0,1.0,1.0,1.0,1.0,1.0,1.0])                       |\n",
            "|\"@UnrealRestaurant The \"\"pineapple-under-the-sea\"\" menu item makes me feel bad for Spongebob. Don't eat his house. :(\"|[\"@unrealrestaurant, the, \"\"pineapple-under-the-sea\"\", menu, item, makes, me, feel, bad, for, spongebob., don't, eat, his, house., :(\"]|[the, \"\"pineapple-under-the-sea\"\", menu, item, makes, me, feel, bad, for, spongebob., don't, eat, his, house., :(\"]|[\"\"pineapple-under-the-sea\"\", menu, item, makes, feel, bad, spongebob., eat, house., :(\"]|(262144,[42605,61899,87549,122012,145380,148423,151571,199581,202572,245420],[1.0,1.0,1.0,1.0,1.0,1.0,1.0,1.0,1.0,1.0])|\n",
            "+----------------------------------------------------------------------------------------------------------------------+---------------------------------------------------------------------------------------------------------------------------------------+-------------------------------------------------------------------------------------------------------------------+-----------------------------------------------------------------------------------------+-----------------------------------------------------------------------------------------------------------------------+\n",
            "\n"
          ]
        }
      ],
      "source": [
        "# Run the hashing term frequency\n",
        "hash = HashingTF(inputCol='More Filtered', outputCol=\"Hashing Frequencies\") # use the default number of features\n",
        "\n",
        "# Transform into a DF\n",
        "df = hash.transform(df)\n",
        "df.show(truncate=False)"
      ]
    },
    {
      "cell_type": "code",
      "execution_count": 31,
      "metadata": {
        "id": "uG0XxfVbriGU",
        "colab": {
          "base_uri": "https://localhost:8080/"
        },
        "outputId": "e7fe89ab-2e41-46c7-bae2-06268fc040ee"
      },
      "outputs": [
        {
          "output_type": "stream",
          "name": "stdout",
          "text": [
            "+----------------------------------------------------------------------------------------------------------------------+---------------------------------------------------------------------------------------------------------------------------------------+-------------------------------------------------------------------------------------------------------------------+-----------------------------------------------------------------------------------------+-----------------------------------------------------------------------------------------------------------------------+-----------------------------------------------------------------------------------------------------------------------------------------------------------------------------------------------------------------------------------------------------------------------------+\n",
            "|Restaurant Tweets                                                                                                     |Word List                                                                                                                              |Filtered                                                                                                           |More Filtered                                                                            |Hashing Frequencies                                                                                                    |IDF Frequencies                                                                                                                                                                                                                                                              |\n",
            "+----------------------------------------------------------------------------------------------------------------------+---------------------------------------------------------------------------------------------------------------------------------------+-------------------------------------------------------------------------------------------------------------------+-----------------------------------------------------------------------------------------+-----------------------------------------------------------------------------------------------------------------------+-----------------------------------------------------------------------------------------------------------------------------------------------------------------------------------------------------------------------------------------------------------------------------+\n",
            "|@UnrealRestaurant service was super slow today. Pick up your game, or I'm not going back.                             |[@unrealrestaurant, service, was, super, slow, today., pick, up, your, game,, or, i'm, not, going, back.]                              |[service, was, super, slow, today., pick, up, your, game,, or, i'm, not, going, back.]                             |[service, super, slow, today., pick, game,, going, back.]                                |(262144,[27707,43756,58339,102382,104220,127310,184689,210090],[1.0,1.0,1.0,1.0,1.0,1.0,1.0,1.0])                      |(262144,[27707,43756,58339,102382,104220,127310,184689,210090],[1.0986122886681098,1.0986122886681098,1.0986122886681098,1.0986122886681098,1.0986122886681098,1.0986122886681098,1.0986122886681098,1.0986122886681098])                                                    |\n",
            "|@UnrealRestaurant Not so sure about the underwater restaurant experience. Kinda felt like I was drowning.             |[@unrealrestaurant, not, so, sure, about, the, underwater, restaurant, experience., kinda, felt, like, i, was, drowning.]              |[not, so, sure, about, the, underwater, restaurant, experience., kinda, felt, like, i, was, drowning.]             |[sure, underwater, restaurant, experience., kinda, felt, like, drowning.]                |(262144,[30497,53839,130345,134125,172780,175529,208258,245912],[1.0,1.0,1.0,1.0,1.0,1.0,1.0,1.0])                     |(262144,[30497,53839,130345,134125,172780,175529,208258,245912],[1.0986122886681098,1.0986122886681098,1.0986122886681098,1.0986122886681098,1.0986122886681098,1.0986122886681098,0.6931471805599453,1.0986122886681098])                                                   |\n",
            "|@UnrealRestaurant when I'm away, you're all I think about. You make me feel like a natural mermaid.                   |[@unrealrestaurant, when, i'm, away,, you're, all, i, think, about., you, make, me, feel, like, a, natural, mermaid.]                  |[when, i'm, away,, you're, all, i, think, about., you, make, me, feel, like, a, natural, mermaid.]                 |[away,, think, about., make, feel, like, natural, mermaid.]                              |(262144,[33211,54800,61899,89717,153423,153484,208258,256508],[1.0,1.0,1.0,1.0,1.0,1.0,1.0,1.0])                       |(262144,[33211,54800,61899,89717,153423,153484,208258,256508],[1.0986122886681098,1.0986122886681098,0.6931471805599453,1.0986122886681098,1.0986122886681098,1.0986122886681098,0.6931471805599453,1.0986122886681098])                                                     |\n",
            "|@UnrealRestaurant Are your opening hours listed online accurate? You were closed at 4pm Monday.                       |[@unrealrestaurant, are, your, opening, hours, listed, online, accurate?, you, were, closed, at, 4pm, monday.]                         |[are, your, opening, hours, listed, online, accurate?, you, were, closed, at, 4pm, monday.]                        |[opening, hours, listed, online, accurate?, closed, 4pm, monday.]                        |(262144,[8408,50671,96266,103159,109526,111255,204359,241088],[1.0,1.0,1.0,1.0,1.0,1.0,1.0,1.0])                       |(262144,[8408,50671,96266,103159,109526,111255,204359,241088],[1.0986122886681098,1.0986122886681098,1.0986122886681098,1.0986122886681098,1.0986122886681098,1.0986122886681098,1.0986122886681098,1.0986122886681098])                                                     |\n",
            "|\"@UnrealRestaurant The \"\"pineapple-under-the-sea\"\" menu item makes me feel bad for Spongebob. Don't eat his house. :(\"|[\"@unrealrestaurant, the, \"\"pineapple-under-the-sea\"\", menu, item, makes, me, feel, bad, for, spongebob., don't, eat, his, house., :(\"]|[the, \"\"pineapple-under-the-sea\"\", menu, item, makes, me, feel, bad, for, spongebob., don't, eat, his, house., :(\"]|[\"\"pineapple-under-the-sea\"\", menu, item, makes, feel, bad, spongebob., eat, house., :(\"]|(262144,[42605,61899,87549,122012,145380,148423,151571,199581,202572,245420],[1.0,1.0,1.0,1.0,1.0,1.0,1.0,1.0,1.0,1.0])|(262144,[42605,61899,87549,122012,145380,148423,151571,199581,202572,245420],[1.0986122886681098,0.6931471805599453,1.0986122886681098,1.0986122886681098,1.0986122886681098,1.0986122886681098,1.0986122886681098,1.0986122886681098,1.0986122886681098,1.0986122886681098])|\n",
            "+----------------------------------------------------------------------------------------------------------------------+---------------------------------------------------------------------------------------------------------------------------------------+-------------------------------------------------------------------------------------------------------------------+-----------------------------------------------------------------------------------------+-----------------------------------------------------------------------------------------------------------------------+-----------------------------------------------------------------------------------------------------------------------------------------------------------------------------------------------------------------------------------------------------------------------------+\n",
            "\n"
          ]
        }
      ],
      "source": [
        "# Fit the IDF on the data set \n",
        "\n",
        "# Fit the IDF on the data set \n",
        "idf = IDF(inputCol='Hashing Frequencies', outputCol=\"IDF Frequencies\") # use the default number of features\n",
        "idfModel = idf.fit(df)\n",
        "df = idfModel.transform(df)\n",
        "# Display the DataFrame\n",
        "df.show(truncate=False)"
      ]
    },
    {
      "cell_type": "code",
      "execution_count": null,
      "metadata": {
        "id": "-77C8Ma6rjG8"
      },
      "outputs": [],
      "source": [
        "# Display the DataFrame"
      ]
    },
    {
      "cell_type": "code",
      "execution_count": null,
      "metadata": {
        "id": "1hC7h8jArkgs"
      },
      "outputs": [],
      "source": []
    }
  ],
  "metadata": {
    "colab": {
      "provenance": [],
      "include_colab_link": true
    },
    "kernelspec": {
      "display_name": "Python 3",
      "language": "python",
      "name": "python3"
    },
    "language_info": {
      "codemirror_mode": {
        "name": "ipython",
        "version": 3
      },
      "file_extension": ".py",
      "mimetype": "text/x-python",
      "name": "python",
      "nbconvert_exporter": "python",
      "pygments_lexer": "ipython3",
      "version": "3.8.8"
    },
    "latex_envs": {
      "LaTeX_envs_menu_present": true,
      "autoclose": false,
      "autocomplete": true,
      "bibliofile": "biblio.bib",
      "cite_by": "apalike",
      "current_citInitial": 1,
      "eqLabelWithNumbers": true,
      "eqNumInitial": 1,
      "hotkeys": {
        "equation": "Ctrl-E",
        "itemize": "Ctrl-I"
      },
      "labels_anchors": false,
      "latex_user_defs": false,
      "report_style_numbering": false,
      "user_envs_cfg": false
    }
  },
  "nbformat": 4,
  "nbformat_minor": 0
}