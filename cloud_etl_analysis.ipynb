{
  "cells": [
    {
      "cell_type": "markdown",
      "metadata": {
        "id": "view-in-github",
        "colab_type": "text"
      },
      "source": [
        "<a href=\"https://colab.research.google.com/github/Maheenms/GoogleCoLab/blob/main/cloud_etl_analysis.ipynb\" target=\"_parent\"><img src=\"https://colab.research.google.com/assets/colab-badge.svg\" alt=\"Open In Colab\"/></a>"
      ]
    },
    {
      "cell_type": "code",
      "execution_count": null,
      "metadata": {
        "id": "9BtCOyQ3kChJ"
      },
      "outputs": [],
      "source": [
        "import os\n",
        "# Find the latest version of spark 3.2  from http://www.apache.org/dist/spark/ and enter as the spark version\n",
        "# For example:\n",
        "spark_version = 'spark-3.2.2'\n",
        "#spark_version = 'spark-<enter version>'\n",
        "os.environ['SPARK_VERSION']=spark_version\n",
        "\n",
        "# Install Spark and Java\n",
        "!apt-get update\n",
        "!apt-get install openjdk-8-jdk-headless -qq > /dev/null\n",
        "!wget -q http://www.apache.org/dist/spark/$SPARK_VERSION/$SPARK_VERSION-bin-hadoop2.7.tgz\n",
        "!tar xf $SPARK_VERSION-bin-hadoop2.7.tgz\n",
        "!pip install -q findspark\n",
        "\n",
        "# Set Environment Variables\n",
        "os.environ[\"JAVA_HOME\"] = \"/usr/lib/jvm/java-8-openjdk-amd64\"\n",
        "os.environ[\"SPARK_HOME\"] = f\"/content/{spark_version}-bin-hadoop2.7\"\n",
        "\n",
        "# Start a SparkSession\n",
        "import findspark\n",
        "findspark.init()"
      ]
    },
    {
      "cell_type": "code",
      "execution_count": 2,
      "metadata": {
        "id": "3FP8HaLokHui"
      },
      "outputs": [],
      "source": [
        "from pyspark.sql import SparkSession\n",
        "spark = SparkSession.builder.appName(\"CloudETLProjectAnalysis\").getOrCreate()"
      ]
    },
    {
      "cell_type": "code",
      "execution_count": 3,
      "metadata": {
        "colab": {
          "base_uri": "https://localhost:8080/"
        },
        "id": "9LSw6QzzkMkY",
        "outputId": "185bc4f2-9913-4ecb-c062-4a962e8894d8"
      },
      "outputs": [
        {
          "output_type": "stream",
          "name": "stdout",
          "text": [
            "+--------------------+--------------------+--------------------+--------------------+------+-----------------+-----------+\n",
            "|                 _c0|            drugName|           condition|              review|rating|             date|usefulCount|\n",
            "+--------------------+--------------------+--------------------+--------------------+------+-----------------+-----------+\n",
            "|              206461|           Valsartan|Left Ventricular ...|\"\"\"It has no side...|   9.0|     May 20, 2012|         27|\n",
            "|               95260|          Guanfacine|                ADHD|\"\"\"My son is half...|  null|             null|       null|\n",
            "|We have tried man...|                 8.0|      April 27, 2010|                 192|  null|             null|       null|\n",
            "|               92703|              Lybrel|       Birth Control|\"\"\"I used to take...|  null|             null|       null|\n",
            "|The positive side...|                 5.0|   December 14, 2009|                  17|  null|             null|       null|\n",
            "|              138000|          Ortho Evra|       Birth Control|\"\"\"This is my fir...|   8.0| November 3, 2015|         10|\n",
            "|               35696|Buprenorphine / n...|   Opiate Dependence|\"\"\"Suboxone has c...|   9.0|November 27, 2016|         37|\n",
            "|              155963|              Cialis|Benign Prostatic ...|\"\"\"2nd day on 5mg...|   2.0|November 28, 2015|         43|\n",
            "|              165907|      Levonorgestrel|Emergency Contrac...|\"\"\"He pulled out,...|   1.0|    March 7, 2017|          5|\n",
            "|              102654|        Aripiprazole|     Bipolar Disorde|\"\"\"Abilify change...|  10.0|   March 14, 2015|         32|\n",
            "+--------------------+--------------------+--------------------+--------------------+------+-----------------+-----------+\n",
            "only showing top 10 rows\n",
            "\n"
          ]
        }
      ],
      "source": [
        "from pyspark import SparkFiles\n",
        "# Load file\n",
        "\n",
        "url = \"/content/drugsComTrain_raw.tsv\" #enter correct address here\n",
        "\n",
        "#spark.sparkContext.addFile(url) - No need to use sparkcontext because we are reading it from a local folder\n",
        "\n",
        "df = spark.read.csv(url, header=True, inferSchema=True, sep='\\t', timestampFormat=\"mm/dd/yy\")\n",
        "\n",
        "df.show(10)"
      ]
    },
    {
      "cell_type": "markdown",
      "metadata": {
        "id": "IifpzN6zkN5Q"
      },
      "source": [
        "## Transform DataFrame to fit a schema with data types \"text\" and \"integer\""
      ]
    },
    {
      "cell_type": "code",
      "execution_count": 4,
      "metadata": {
        "colab": {
          "base_uri": "https://localhost:8080/"
        },
        "id": "E72hLCa7kT_D",
        "outputId": "995c54f4-b350-41b7-dff9-55ff65ee4467"
      },
      "outputs": [
        {
          "output_type": "stream",
          "name": "stdout",
          "text": [
            "+--------------------+------+\n",
            "|            drugName|rating|\n",
            "+--------------------+------+\n",
            "|           Valsartan|   9.0|\n",
            "|          Guanfacine|  null|\n",
            "|                 8.0|  null|\n",
            "|              Lybrel|  null|\n",
            "|                 5.0|  null|\n",
            "|          Ortho Evra|   8.0|\n",
            "|Buprenorphine / n...|   9.0|\n",
            "|              Cialis|   2.0|\n",
            "|      Levonorgestrel|   1.0|\n",
            "|        Aripiprazole|  10.0|\n",
            "|              Keppra|   1.0|\n",
            "|Ethinyl estradiol...|   8.0|\n",
            "|          Topiramate|   9.0|\n",
            "|      L-methylfolate|  null|\n",
            "|                null|  null|\n",
            "|                10.0|  null|\n",
            "|             Pentasa|   4.0|\n",
            "|    Dextromethorphan|   4.0|\n",
            "|           Nexplanon|  null|\n",
            "|                 3.0|  null|\n",
            "+--------------------+------+\n",
            "only showing top 20 rows\n",
            "\n"
          ]
        }
      ],
      "source": [
        "shop_df = df.select([\"drugName\",\"rating\"])\n",
        "shop_df.show()"
      ]
    },
    {
      "cell_type": "code",
      "execution_count": 5,
      "metadata": {
        "colab": {
          "base_uri": "https://localhost:8080/"
        },
        "id": "kRvAVaeWkXXn",
        "outputId": "2f86951e-589b-45fd-9cb9-55c85bde41f1"
      },
      "outputs": [
        {
          "output_type": "stream",
          "name": "stdout",
          "text": [
            "+--------------------+-----------------+---------------+\n",
            "|            drugName|      avg(rating)|count(drugName)|\n",
            "+--------------------+-----------------+---------------+\n",
            "|              Dulera|5.285714285714286|             24|\n",
            "|              Prozac|7.482843137254902|            472|\n",
            "|               Arava|6.357142857142857|             14|\n",
            "|              Maxalt|         8.890625|             70|\n",
            "|          Tazarotene|7.416666666666667|             14|\n",
            "|           Primidone|6.193548387096774|             41|\n",
            "|Acetaminophen / d...|6.565217391304348|             23|\n",
            "|            Treximet|              9.0|             58|\n",
            "|              Avapro|4.956521739130435|             23|\n",
            "|             Prograf|8.411764705882353|             18|\n",
            "|           Auranofin|             10.0|              2|\n",
            "|    Spiriva Respimat|              7.0|              4|\n",
            "|   Parafon Forte DSC|              6.0|              2|\n",
            "|                 1.0|             null|           2278|\n",
            "|            Dupixent|7.833333333333333|             16|\n",
            "|           Nebivolol|6.962616822429907|            117|\n",
            "|              Nexium|8.064102564102564|             80|\n",
            "|              Ceftin|8.391304347826088|             25|\n",
            "|             Enjuvia|             10.0|              2|\n",
            "|         Benicar HCT|7.133333333333334|             18|\n",
            "+--------------------+-----------------+---------------+\n",
            "only showing top 20 rows\n",
            "\n"
          ]
        }
      ],
      "source": [
        "drug_ratings_df = shop_df.groupby(\"drugName\").agg({\"rating\": \"avg\", \"drugName\":\"count\"})\n",
        "drug_ratings_df.show()"
      ]
    },
    {
      "cell_type": "code",
      "execution_count": 6,
      "metadata": {
        "colab": {
          "base_uri": "https://localhost:8080/"
        },
        "id": "OJgQqozHkYhz",
        "outputId": "b10e4207-5ec9-4cfd-943a-846aefec4fb0"
      },
      "outputs": [
        {
          "output_type": "stream",
          "name": "stdout",
          "text": [
            "+--------------------+----------+-------------+\n",
            "|            drugName|avg_rating|total_ratings|\n",
            "+--------------------+----------+-------------+\n",
            "|Do not stop the m...|     148.0|            1|\n",
            "|                   \"|      62.0|            1|\n",
            "|         Ecallantide|      10.0|            1|\n",
            "|       Sertaconazole|      10.0|            1|\n",
            "|         Ferumoxytol|      10.0|            2|\n",
            "|          Ovace Plus|      10.0|            1|\n",
            "|         Pilocarpine|      10.0|            1|\n",
            "|             Plendil|      10.0|            2|\n",
            "|             Privine|      10.0|            9|\n",
            "|             R-Tanna|      10.0|            2|\n",
            "|          Filgrastim|      10.0|            2|\n",
            "|Flanax Pain Reliever|      10.0|            1|\n",
            "|Salicylic acid / ...|      10.0|            1|\n",
            "|          Capmist DM|      10.0|            1|\n",
            "|          Phosphasal|      10.0|            1|\n",
            "|Chlorpheniramine ...|      10.0|            6|\n",
            "|           ProCentra|      10.0|            1|\n",
            "|         Royal jelly|      10.0|            1|\n",
            "|             Lazanda|      10.0|            1|\n",
            "|              Sulfur|      10.0|            1|\n",
            "+--------------------+----------+-------------+\n",
            "only showing top 20 rows\n",
            "\n"
          ]
        }
      ],
      "source": [
        "from pyspark.sql.functions import desc\n",
        "drug_ratings_df = drug_ratings_df.withColumnRenamed(\"count(drugName)\", \"total_ratings\")\\\n",
        "                                     .withColumnRenamed(\"avg(rating)\", \"avg_rating\")\n",
        "drug_ratings_df.orderBy(desc(\"avg_rating\")).show()"
      ]
    },
    {
      "cell_type": "markdown",
      "metadata": {
        "id": "qnF65nZ1kZAi"
      },
      "source": [
        "## Transform DataFrame to fit a schema with data types of \"date\" and \"text\""
      ]
    },
    {
      "cell_type": "code",
      "execution_count": 7,
      "metadata": {
        "id": "W8gR8zpukhqW"
      },
      "outputs": [],
      "source": [
        "review_df = df.select([\"review\", \"date\"])"
      ]
    },
    {
      "cell_type": "code",
      "execution_count": 8,
      "metadata": {
        "colab": {
          "base_uri": "https://localhost:8080/"
        },
        "id": "ntGlHckdHU1Y",
        "outputId": "0df407da-f9a4-43b3-ebf2-84829701345c"
      },
      "outputs": [
        {
          "output_type": "stream",
          "name": "stdout",
          "text": [
            "+--------------------+-----------------+\n",
            "|              review|             date|\n",
            "+--------------------+-----------------+\n",
            "|\"\"\"It has no side...|     May 20, 2012|\n",
            "|\"\"\"My son is half...|             null|\n",
            "|                 192|             null|\n",
            "|\"\"\"I used to take...|             null|\n",
            "|                  17|             null|\n",
            "|\"\"\"This is my fir...| November 3, 2015|\n",
            "|\"\"\"Suboxone has c...|November 27, 2016|\n",
            "|\"\"\"2nd day on 5mg...|November 28, 2015|\n",
            "|\"\"\"He pulled out,...|    March 7, 2017|\n",
            "|\"\"\"Abilify change...|   March 14, 2015|\n",
            "|\"\"\" I Ve had  not...|   August 9, 2016|\n",
            "|\"\"\"I had been on ...| December 8, 2016|\n",
            "|\"\"\"I have been on...|  January 1, 2015|\n",
            "|\"\"\"I have taken a...|             null|\n",
            "|                null|             null|\n",
            "|                  54|             null|\n",
            "|\"\"\"I had Crohn&#0...|     July 6, 2013|\n",
            "|\"\"\"Have a little ...|September 7, 2017|\n",
            "|\"\"\"Started Nexpla...|             null|\n",
            "|                  10|             null|\n",
            "+--------------------+-----------------+\n",
            "only showing top 20 rows\n",
            "\n"
          ]
        }
      ],
      "source": [
        "review_df.show()"
      ]
    },
    {
      "cell_type": "code",
      "execution_count": 9,
      "metadata": {
        "id": "Trx6n0mFSOnx"
      },
      "outputs": [],
      "source": [
        "#Drop columns with NA\n",
        "review_df = review_df.dropna()"
      ]
    },
    {
      "cell_type": "code",
      "execution_count": 10,
      "metadata": {
        "colab": {
          "base_uri": "https://localhost:8080/"
        },
        "id": "nVPFb0PzkkTH",
        "outputId": "e38db22f-56bd-4ad5-c678-161e56b19036"
      },
      "outputs": [
        {
          "output_type": "stream",
          "name": "stdout",
          "text": [
            "+-----------------+------------+\n",
            "|             date|review_count|\n",
            "+-----------------+------------+\n",
            "|      May 7, 2011|          17|\n",
            "|    March 2, 2017|          79|\n",
            "|   March 21, 2013|          25|\n",
            "|   April 29, 2016|         111|\n",
            "|     May 30, 2017|          68|\n",
            "|February 10, 2013|          30|\n",
            "| October 31, 2015|          79|\n",
            "| October 27, 2015|         108|\n",
            "|   April 18, 2015|          43|\n",
            "|    March 4, 2010|          10|\n",
            "|   March 25, 2016|          53|\n",
            "| November 4, 2010|          20|\n",
            "| January 17, 2009|          12|\n",
            "|  August 15, 2012|          33|\n",
            "|February 21, 2009|          21|\n",
            "|   April 26, 2008|          13|\n",
            "|September 8, 2010|          19|\n",
            "| October 29, 2012|          13|\n",
            "|December 25, 2013|          11|\n",
            "|      May 5, 2014|          27|\n",
            "+-----------------+------------+\n",
            "only showing top 20 rows\n",
            "\n"
          ]
        }
      ],
      "source": [
        "date_df = review_df.groupBy('date').agg({\"date\": \"count\"})\n",
        "date_df = date_df.withColumnRenamed(\"count(date)\", \"review_count\")\n",
        "date_df.show()"
      ]
    },
    {
      "cell_type": "code",
      "execution_count": 11,
      "metadata": {
        "colab": {
          "base_uri": "https://localhost:8080/"
        },
        "id": "E6P2i7rCkjte",
        "outputId": "edc69d63-9d00-4090-ef84-669fcaeaef87"
      },
      "outputs": [
        {
          "output_type": "stream",
          "name": "stdout",
          "text": [
            "+------------------+------------+\n",
            "|              date|review_count|\n",
            "+------------------+------------+\n",
            "|     March 1, 2016|         128|\n",
            "|September 23, 2015|         125|\n",
            "|  January 27, 2016|         120|\n",
            "|  February 5, 2016|         120|\n",
            "| December 15, 2015|         120|\n",
            "|  January 13, 2016|         118|\n",
            "|    August 6, 2015|         118|\n",
            "|  January 20, 2016|         117|\n",
            "|    April 18, 2017|         117|\n",
            "|  February 3, 2016|         115|\n",
            "|   January 5, 2017|         114|\n",
            "|    March 31, 2016|         114|\n",
            "|   January 7, 2017|         114|\n",
            "|     July 12, 2016|         114|\n",
            "|    August 3, 2016|         113|\n",
            "|  January 16, 2017|         111|\n",
            "|    April 29, 2016|         111|\n",
            "|    April 25, 2017|         111|\n",
            "| February 26, 2016|         111|\n",
            "| February 16, 2016|         109|\n",
            "+------------------+------------+\n",
            "only showing top 20 rows\n",
            "\n"
          ]
        }
      ],
      "source": [
        "date_df.orderBy(desc(\"review_count\")).show()"
      ]
    },
    {
      "cell_type": "code",
      "execution_count": null,
      "metadata": {
        "id": "uXQe3s_ElN2U"
      },
      "outputs": [],
      "source": []
    }
  ],
  "metadata": {
    "colab": {
      "provenance": [],
      "include_colab_link": true
    },
    "kernelspec": {
      "display_name": "Python 3",
      "language": "python",
      "name": "python3"
    },
    "language_info": {
      "codemirror_mode": {
        "name": "ipython",
        "version": 3
      },
      "file_extension": ".py",
      "mimetype": "text/x-python",
      "name": "python",
      "nbconvert_exporter": "python",
      "pygments_lexer": "ipython3",
      "version": "3.8.8"
    }
  },
  "nbformat": 4,
  "nbformat_minor": 0
}