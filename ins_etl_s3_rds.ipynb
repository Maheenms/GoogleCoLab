{
  "cells": [
    {
      "cell_type": "markdown",
      "metadata": {
        "id": "view-in-github",
        "colab_type": "text"
      },
      "source": [
        "<a href=\"https://colab.research.google.com/github/Maheenms/GoogleCoLab/blob/main/ins_etl_s3_rds.ipynb\" target=\"_parent\"><img src=\"https://colab.research.google.com/assets/colab-badge.svg\" alt=\"Open In Colab\"/></a>"
      ]
    },
    {
      "cell_type": "code",
      "execution_count": 1,
      "metadata": {
        "id": "5WosHdRWdmpw",
        "colab": {
          "base_uri": "https://localhost:8080/"
        },
        "outputId": "2fdd307a-1cff-4e31-e96c-171cda9d0ffd"
      },
      "outputs": [
        {
          "output_type": "stream",
          "name": "stdout",
          "text": [
            "Get:1 https://cloud.r-project.org/bin/linux/ubuntu bionic-cran40/ InRelease [3,626 B]\n",
            "Ign:2 https://developer.download.nvidia.com/compute/machine-learning/repos/ubuntu1804/x86_64  InRelease\n",
            "Hit:3 https://developer.download.nvidia.com/compute/cuda/repos/ubuntu1804/x86_64  InRelease\n",
            "Hit:4 https://developer.download.nvidia.com/compute/machine-learning/repos/ubuntu1804/x86_64  Release\n",
            "Hit:6 http://archive.ubuntu.com/ubuntu bionic InRelease\n",
            "Get:7 http://security.ubuntu.com/ubuntu bionic-security InRelease [88.7 kB]\n",
            "Get:8 http://archive.ubuntu.com/ubuntu bionic-updates InRelease [88.7 kB]\n",
            "Get:9 http://ppa.launchpad.net/c2d4u.team/c2d4u4.0+/ubuntu bionic InRelease [15.9 kB]\n",
            "Get:10 http://archive.ubuntu.com/ubuntu bionic-backports InRelease [83.3 kB]\n",
            "Get:11 http://archive.ubuntu.com/ubuntu bionic-updates/multiverse amd64 Packages [29.9 kB]\n",
            "Get:12 http://archive.ubuntu.com/ubuntu bionic-updates/main amd64 Packages [3,492 kB]\n",
            "Get:13 http://security.ubuntu.com/ubuntu bionic-security/universe amd64 Packages [1,561 kB]\n",
            "Hit:14 http://ppa.launchpad.net/cran/libgit2/ubuntu bionic InRelease\n",
            "Hit:15 http://ppa.launchpad.net/deadsnakes/ppa/ubuntu bionic InRelease\n",
            "Hit:16 http://ppa.launchpad.net/graphics-drivers/ppa/ubuntu bionic InRelease\n",
            "Get:17 http://ppa.launchpad.net/c2d4u.team/c2d4u4.0+/ubuntu bionic/main Sources [2,224 kB]\n",
            "Get:18 http://ppa.launchpad.net/c2d4u.team/c2d4u4.0+/ubuntu bionic/main amd64 Packages [1,138 kB]\n",
            "Get:19 http://archive.ubuntu.com/ubuntu bionic-updates/universe amd64 Packages [2,336 kB]\n",
            "Get:20 http://archive.ubuntu.com/ubuntu bionic-updates/restricted amd64 Packages [1,303 kB]\n",
            "Get:21 http://security.ubuntu.com/ubuntu bionic-security/main amd64 Packages [3,065 kB]\n",
            "Get:22 http://security.ubuntu.com/ubuntu bionic-security/restricted amd64 Packages [1,262 kB]\n",
            "Get:23 http://security.ubuntu.com/ubuntu bionic-security/multiverse amd64 Packages [22.8 kB]\n",
            "Fetched 16.7 MB in 2min 21s (119 kB/s)\n",
            "Reading package lists... Done\n"
          ]
        }
      ],
      "source": [
        "import os\n",
        "# Find the latest version of spark 3.2  from http://www.apache.org/dist/spark/ and enter as the spark version\n",
        "# For example:\n",
        "# spark_version = 'spark-3.2.2'\n",
        "spark_version = 'spark-3.2.2'\n",
        "os.environ['SPARK_VERSION']=spark_version\n",
        "\n",
        "# Install Spark and Java\n",
        "!apt-get update\n",
        "!apt-get install openjdk-8-jdk-headless -qq > /dev/null\n",
        "!wget -q http://www.apache.org/dist/spark/$SPARK_VERSION/$SPARK_VERSION-bin-hadoop2.7.tgz\n",
        "!tar xf $SPARK_VERSION-bin-hadoop2.7.tgz\n",
        "!pip install -q findspark\n",
        "\n",
        "# Set Environment Variables\n",
        "os.environ[\"JAVA_HOME\"] = \"/usr/lib/jvm/java-8-openjdk-amd64\"\n",
        "os.environ[\"SPARK_HOME\"] = f\"/content/{spark_version}-bin-hadoop2.7\"\n",
        "\n",
        "# Start a SparkSession\n",
        "import findspark\n",
        "findspark.init()"
      ]
    },
    {
      "cell_type": "code",
      "execution_count": 2,
      "metadata": {
        "colab": {
          "base_uri": "https://localhost:8080/"
        },
        "id": "xISV-9eR6Yah",
        "outputId": "5e741a92-0f1b-472f-b328-d72429cc68d0"
      },
      "outputs": [
        {
          "output_type": "stream",
          "name": "stdout",
          "text": [
            "--2022-11-16 17:40:51--  https://jdbc.postgresql.org/download/postgresql-42.2.9.jar\n",
            "Resolving jdbc.postgresql.org (jdbc.postgresql.org)... 72.32.157.228, 2001:4800:3e1:1::228\n",
            "Connecting to jdbc.postgresql.org (jdbc.postgresql.org)|72.32.157.228|:443... connected.\n",
            "HTTP request sent, awaiting response... 200 OK\n",
            "Length: 914037 (893K) [application/java-archive]\n",
            "Saving to: ‘postgresql-42.2.9.jar’\n",
            "\n",
            "postgresql-42.2.9.j 100%[===================>] 892.61K  1.26MB/s    in 0.7s    \n",
            "\n",
            "2022-11-16 17:40:52 (1.26 MB/s) - ‘postgresql-42.2.9.jar’ saved [914037/914037]\n",
            "\n"
          ]
        }
      ],
      "source": [
        "!wget https://jdbc.postgresql.org/download/postgresql-42.2.9.jar"
      ]
    },
    {
      "cell_type": "code",
      "execution_count": 3,
      "metadata": {
        "id": "aEQFTWiV6g2h"
      },
      "outputs": [],
      "source": [
        "from pyspark.sql import SparkSession\n",
        "spark = SparkSession.builder.appName(\"CloudETL\").config(\"spark.driver.extraClassPath\",\"/content/postgresql-42.2.9.jar\").getOrCreate()"
      ]
    },
    {
      "cell_type": "code",
      "execution_count": 4,
      "metadata": {
        "colab": {
          "base_uri": "https://localhost:8080/"
        },
        "id": "qik6uGSV9BWa",
        "outputId": "df679789-a156-48bb-894f-303ffec9604c"
      },
      "outputs": [
        {
          "output_type": "stream",
          "name": "stdout",
          "text": [
            "+---+----------+---------+-----------+--------------------+--------------------+----------+\n",
            "| id|first_name|last_name|active_user|      street_address|               state|  username|\n",
            "+---+----------+---------+-----------+--------------------+--------------------+----------+\n",
            "|  1|      Andy|    Tuvey|      false| 12376 Darwin Circle|            New York|   atuvey0|\n",
            "|  2|   Bastian|  Francke|       true|14034 Summerview ...|          Washington| bfrancke1|\n",
            "|  3|    Dallis|    Duffy|      false| 8 Autumn Leaf Court|                Ohio|   dduffy2|\n",
            "|  4|      Zena|    Saker|       true|      3605 Gina Park|          California|   zsaker3|\n",
            "|  5|      Jere|    Argue|       true|        8 Hauk Court|          New Jersey|   jargue4|\n",
            "|  6|    Jethro| Creeghan|       true|29047 Internation...|               Texas|jcreeghan5|\n",
            "|  7|  Meridith|   Rapley|      false|95258 Stuart Terrace|             Indiana|  mrapley6|\n",
            "|  8| Anastasie|     Gant|       true|   4193 Dexter Drive|            Michigan|    agant7|\n",
            "|  9|    Berkly|   Gummow|      false|7581 Northfield P...|          New Mexico|  bgummow8|\n",
            "| 10| Nicolette|  Haughin|      false|      6 Hooker Court|             Florida| nhaughin9|\n",
            "| 11|   Sheelah|  Jurczik|      false|   6 Porter Crossing|          New Mexico| sjurczika|\n",
            "| 12|     Klaus|   Nuscha|      false|    37206 Dwight Way|              Kansas|  knuschab|\n",
            "| 13|      Roth|    Anton|       true|  143 Garrison Drive|District of Columbia|   rantonc|\n",
            "| 14|     Jareb|      Tod|       true|      468 Vidon Lane|           Tennessee|     jtodd|\n",
            "| 15|      Dill|  Swinney|      false|    28 Pearson Point|              Oregon| dswinneye|\n",
            "| 16|      Ulla|   Fernan|      false|   13 Fairview Alley|            Michigan|  ufernanf|\n",
            "| 17|     Aksel|   Josham|      false| 08040 Scoville Hill|            Virginia|  ajoshamg|\n",
            "| 18|    Carney| Stiddard|       true|93776 Twin Pines ...|               Texas|cstiddardh|\n",
            "| 19|    Milzie|  Blizard|       true|      4 Corscot Park|            Kentucky| mblizardi|\n",
            "| 20|     Giffy|  Absolon|      false|   335 Clemons Drive|             Georgia| gabsolonj|\n",
            "+---+----------+---------+-----------+--------------------+--------------------+----------+\n",
            "only showing top 20 rows\n",
            "\n"
          ]
        }
      ],
      "source": [
        "# Read in data from S3 Buckets\n",
        "from pyspark import SparkFiles\n",
        "#url=\"https://<bucket name>.s3.amazonaws.com/user_data.csv\" \n",
        "url = \"https://2u-data-curriculum-team.s3.amazonaws.com/dataviz-classroom/v1.1/22-big-data/day_3/user_data.csv\"\n",
        "spark.sparkContext.addFile(url)\n",
        "user_data_df = spark.read.csv(SparkFiles.get(\"user_data.csv\"), sep=\",\", header=True, inferSchema=True)\n",
        "\n",
        "# Show DataFrame\n",
        "user_data_df.show()"
      ]
    },
    {
      "cell_type": "code",
      "execution_count": 5,
      "metadata": {
        "colab": {
          "base_uri": "https://localhost:8080/"
        },
        "id": "RzqGVnoNd-d8",
        "outputId": "4bac0d52-a19f-4dbc-a5dc-479f1e8cd426"
      },
      "outputs": [
        {
          "output_type": "stream",
          "name": "stdout",
          "text": [
            "+----------+----------+--------------------+\n",
            "|billing_id|  username|        cc_encrypted|\n",
            "+----------+----------+--------------------+\n",
            "|         1|   atuvey0|e1a4f985f7607bbae...|\n",
            "|         2| bfrancke1|e1a4f985f7607bbae...|\n",
            "|         3|   dduffy2|e1a4f985f7607bbae...|\n",
            "|         4|   zsaker3|e1a4f985f7607bbae...|\n",
            "|         5|   jargue4|e1a4f985f7607bbae...|\n",
            "|         6|jcreeghan5|e1a4f985f7607bbae...|\n",
            "|         7|  mrapley6|e1a4f985f7607bbae...|\n",
            "|         8|    agant7|e1a4f985f7607bbae...|\n",
            "|         9|  bgummow8|e1a4f985f7607bbae...|\n",
            "|        10| nhaughin9|e1a4f985f7607bbae...|\n",
            "|        11| sjurczika|e1a4f985f7607bbae...|\n",
            "|        12|  knuschab|e1a4f985f7607bbae...|\n",
            "|        13|   rantonc|e1a4f985f7607bbae...|\n",
            "|        14|     jtodd|e1a4f985f7607bbae...|\n",
            "|        15| dswinneye|e1a4f985f7607bbae...|\n",
            "|        16|  ufernanf|e1a4f985f7607bbae...|\n",
            "|        17|  ajoshamg|e1a4f985f7607bbae...|\n",
            "|        18|cstiddardh|e1a4f985f7607bbae...|\n",
            "|        19| mblizardi|e1a4f985f7607bbae...|\n",
            "|        20| gabsolonj|e1a4f985f7607bbae...|\n",
            "+----------+----------+--------------------+\n",
            "only showing top 20 rows\n",
            "\n"
          ]
        }
      ],
      "source": [
        "#url=\"https://<bucket name>.s3.amazonaws.com/user_payment.csv\"\n",
        "url = 'https://2u-data-curriculum-team.s3.amazonaws.com/dataviz-classroom/v1.1/22-big-data/day_3/user_payment.csv'\n",
        "spark.sparkContext.addFile(url)\n",
        "user_payment_df = spark.read.csv(SparkFiles.get(\"user_payment.csv\"), sep=\",\", header=True, inferSchema=True)\n",
        "\n",
        "#Rename the id column to \"billing_id\" to match our schema.\n",
        "\n",
        "user_payment_df = user_payment_df.withColumnRenamed(\"id\",\"billing_id\")\n",
        "\n",
        "# Show DataFrame\n",
        "user_payment_df.show()"
      ]
    },
    {
      "cell_type": "code",
      "execution_count": 6,
      "metadata": {
        "colab": {
          "base_uri": "https://localhost:8080/"
        },
        "id": "GoN3Gyb4fkhC",
        "outputId": "fd0d810a-6307-4ff7-bf8e-9587d71f76db"
      },
      "outputs": [
        {
          "output_type": "stream",
          "name": "stdout",
          "text": [
            "+----------+---+----------+---------+-----------+--------------------+--------------------+----------+--------------------+\n",
            "|  username| id|first_name|last_name|active_user|      street_address|               state|billing_id|        cc_encrypted|\n",
            "+----------+---+----------+---------+-----------+--------------------+--------------------+----------+--------------------+\n",
            "|   atuvey0|  1|      Andy|    Tuvey|      false| 12376 Darwin Circle|            New York|         1|e1a4f985f7607bbae...|\n",
            "| bfrancke1|  2|   Bastian|  Francke|       true|14034 Summerview ...|          Washington|         2|e1a4f985f7607bbae...|\n",
            "|   dduffy2|  3|    Dallis|    Duffy|      false| 8 Autumn Leaf Court|                Ohio|         3|e1a4f985f7607bbae...|\n",
            "|   zsaker3|  4|      Zena|    Saker|       true|      3605 Gina Park|          California|         4|e1a4f985f7607bbae...|\n",
            "|   jargue4|  5|      Jere|    Argue|       true|        8 Hauk Court|          New Jersey|         5|e1a4f985f7607bbae...|\n",
            "|jcreeghan5|  6|    Jethro| Creeghan|       true|29047 Internation...|               Texas|         6|e1a4f985f7607bbae...|\n",
            "|  mrapley6|  7|  Meridith|   Rapley|      false|95258 Stuart Terrace|             Indiana|         7|e1a4f985f7607bbae...|\n",
            "|    agant7|  8| Anastasie|     Gant|       true|   4193 Dexter Drive|            Michigan|         8|e1a4f985f7607bbae...|\n",
            "|  bgummow8|  9|    Berkly|   Gummow|      false|7581 Northfield P...|          New Mexico|         9|e1a4f985f7607bbae...|\n",
            "| nhaughin9| 10| Nicolette|  Haughin|      false|      6 Hooker Court|             Florida|        10|e1a4f985f7607bbae...|\n",
            "| sjurczika| 11|   Sheelah|  Jurczik|      false|   6 Porter Crossing|          New Mexico|        11|e1a4f985f7607bbae...|\n",
            "|  knuschab| 12|     Klaus|   Nuscha|      false|    37206 Dwight Way|              Kansas|        12|e1a4f985f7607bbae...|\n",
            "|   rantonc| 13|      Roth|    Anton|       true|  143 Garrison Drive|District of Columbia|        13|e1a4f985f7607bbae...|\n",
            "|     jtodd| 14|     Jareb|      Tod|       true|      468 Vidon Lane|           Tennessee|        14|e1a4f985f7607bbae...|\n",
            "| dswinneye| 15|      Dill|  Swinney|      false|    28 Pearson Point|              Oregon|        15|e1a4f985f7607bbae...|\n",
            "|  ufernanf| 16|      Ulla|   Fernan|      false|   13 Fairview Alley|            Michigan|        16|e1a4f985f7607bbae...|\n",
            "|  ajoshamg| 17|     Aksel|   Josham|      false| 08040 Scoville Hill|            Virginia|        17|e1a4f985f7607bbae...|\n",
            "|cstiddardh| 18|    Carney| Stiddard|       true|93776 Twin Pines ...|               Texas|        18|e1a4f985f7607bbae...|\n",
            "| mblizardi| 19|    Milzie|  Blizard|       true|      4 Corscot Park|            Kentucky|        19|e1a4f985f7607bbae...|\n",
            "| gabsolonj| 20|     Giffy|  Absolon|      false|   335 Clemons Drive|             Georgia|        20|e1a4f985f7607bbae...|\n",
            "+----------+---+----------+---------+-----------+--------------------+--------------------+----------+--------------------+\n",
            "only showing top 20 rows\n",
            "\n"
          ]
        }
      ],
      "source": [
        "# Join the two DataFrame, \n",
        "joined_df= user_data_df.join(user_payment_df, on=\"username\", how=\"inner\")\n",
        "joined_df.show()"
      ]
    },
    {
      "cell_type": "code",
      "execution_count": 7,
      "metadata": {
        "colab": {
          "base_uri": "https://localhost:8080/"
        },
        "id": "rtDndjrdlh83",
        "outputId": "0f31d7fd-8338-4f1a-9665-59f6ed00e324"
      },
      "outputs": [
        {
          "output_type": "stream",
          "name": "stdout",
          "text": [
            "+----------+---+----------+---------+-----------+--------------------+--------------------+----------+--------------------+\n",
            "|  username| id|first_name|last_name|active_user|      street_address|               state|billing_id|        cc_encrypted|\n",
            "+----------+---+----------+---------+-----------+--------------------+--------------------+----------+--------------------+\n",
            "|   atuvey0|  1|      Andy|    Tuvey|      false| 12376 Darwin Circle|            New York|         1|e1a4f985f7607bbae...|\n",
            "| bfrancke1|  2|   Bastian|  Francke|       true|14034 Summerview ...|          Washington|         2|e1a4f985f7607bbae...|\n",
            "|   dduffy2|  3|    Dallis|    Duffy|      false| 8 Autumn Leaf Court|                Ohio|         3|e1a4f985f7607bbae...|\n",
            "|   zsaker3|  4|      Zena|    Saker|       true|      3605 Gina Park|          California|         4|e1a4f985f7607bbae...|\n",
            "|   jargue4|  5|      Jere|    Argue|       true|        8 Hauk Court|          New Jersey|         5|e1a4f985f7607bbae...|\n",
            "|jcreeghan5|  6|    Jethro| Creeghan|       true|29047 Internation...|               Texas|         6|e1a4f985f7607bbae...|\n",
            "|  mrapley6|  7|  Meridith|   Rapley|      false|95258 Stuart Terrace|             Indiana|         7|e1a4f985f7607bbae...|\n",
            "|    agant7|  8| Anastasie|     Gant|       true|   4193 Dexter Drive|            Michigan|         8|e1a4f985f7607bbae...|\n",
            "|  bgummow8|  9|    Berkly|   Gummow|      false|7581 Northfield P...|          New Mexico|         9|e1a4f985f7607bbae...|\n",
            "| nhaughin9| 10| Nicolette|  Haughin|      false|      6 Hooker Court|             Florida|        10|e1a4f985f7607bbae...|\n",
            "| sjurczika| 11|   Sheelah|  Jurczik|      false|   6 Porter Crossing|          New Mexico|        11|e1a4f985f7607bbae...|\n",
            "|  knuschab| 12|     Klaus|   Nuscha|      false|    37206 Dwight Way|              Kansas|        12|e1a4f985f7607bbae...|\n",
            "|   rantonc| 13|      Roth|    Anton|       true|  143 Garrison Drive|District of Columbia|        13|e1a4f985f7607bbae...|\n",
            "|     jtodd| 14|     Jareb|      Tod|       true|      468 Vidon Lane|           Tennessee|        14|e1a4f985f7607bbae...|\n",
            "| dswinneye| 15|      Dill|  Swinney|      false|    28 Pearson Point|              Oregon|        15|e1a4f985f7607bbae...|\n",
            "|  ufernanf| 16|      Ulla|   Fernan|      false|   13 Fairview Alley|            Michigan|        16|e1a4f985f7607bbae...|\n",
            "|  ajoshamg| 17|     Aksel|   Josham|      false| 08040 Scoville Hill|            Virginia|        17|e1a4f985f7607bbae...|\n",
            "|cstiddardh| 18|    Carney| Stiddard|       true|93776 Twin Pines ...|               Texas|        18|e1a4f985f7607bbae...|\n",
            "| mblizardi| 19|    Milzie|  Blizard|       true|      4 Corscot Park|            Kentucky|        19|e1a4f985f7607bbae...|\n",
            "| gabsolonj| 20|     Giffy|  Absolon|      false|   335 Clemons Drive|             Georgia|        20|e1a4f985f7607bbae...|\n",
            "+----------+---+----------+---------+-----------+--------------------+--------------------+----------+--------------------+\n",
            "only showing top 20 rows\n",
            "\n"
          ]
        }
      ],
      "source": [
        "# Drop null values, by default is any which means will drop any rows which has a NA\n",
        "dropna_df = joined_df.dropna(how='any')\n",
        "dropna_df.show()"
      ]
    },
    {
      "cell_type": "code",
      "execution_count": 8,
      "metadata": {
        "colab": {
          "base_uri": "https://localhost:8080/"
        },
        "id": "bjEBAydllvCg",
        "outputId": "e2a63c68-ce9f-4a32-a34f-53f83fcaaba9"
      },
      "outputs": [
        {
          "output_type": "stream",
          "name": "stdout",
          "text": [
            "+------------+---+----------+----------+-----------+--------------------+--------------------+----------+--------------------+\n",
            "|    username| id|first_name| last_name|active_user|      street_address|               state|billing_id|        cc_encrypted|\n",
            "+------------+---+----------+----------+-----------+--------------------+--------------------+----------+--------------------+\n",
            "|   bfrancke1|  2|   Bastian|   Francke|       true|14034 Summerview ...|          Washington|         2|e1a4f985f7607bbae...|\n",
            "|     zsaker3|  4|      Zena|     Saker|       true|      3605 Gina Park|          California|         4|e1a4f985f7607bbae...|\n",
            "|     jargue4|  5|      Jere|     Argue|       true|        8 Hauk Court|          New Jersey|         5|e1a4f985f7607bbae...|\n",
            "|  jcreeghan5|  6|    Jethro|  Creeghan|       true|29047 Internation...|               Texas|         6|e1a4f985f7607bbae...|\n",
            "|      agant7|  8| Anastasie|      Gant|       true|   4193 Dexter Drive|            Michigan|         8|e1a4f985f7607bbae...|\n",
            "|     rantonc| 13|      Roth|     Anton|       true|  143 Garrison Drive|District of Columbia|        13|e1a4f985f7607bbae...|\n",
            "|       jtodd| 14|     Jareb|       Tod|       true|      468 Vidon Lane|           Tennessee|        14|e1a4f985f7607bbae...|\n",
            "|  cstiddardh| 18|    Carney|  Stiddard|       true|93776 Twin Pines ...|               Texas|        18|e1a4f985f7607bbae...|\n",
            "|   mblizardi| 19|    Milzie|   Blizard|       true|      4 Corscot Park|            Kentucky|        19|e1a4f985f7607bbae...|\n",
            "|     cdaviol| 22|     Chuck|     Davio|       true|       33 Elka Trail|              Nevada|        22|e1a4f985f7607bbae...|\n",
            "|      mpacko| 25|    Maisie|      Pack|       true|0407 Northfield P...|           Minnesota|        25|e1a4f985f7607bbae...|\n",
            "|   tsperingq| 27|   Trueman|   Spering|       true|98 Rockefeller Pa...|             Florida|        27|e1a4f985f7607bbae...|\n",
            "|  rgascoyenr| 28|   Rosalyn|  Gascoyen|       true|27211 Trailsway D...|            Delaware|        28|e1a4f985f7607bbae...|\n",
            "|     lbaseys| 29|       Lev|     Basey|       true|  6300 Dunning Trail|          California|        29|e1a4f985f7607bbae...|\n",
            "|   jmcphailv| 32|      Jean|   McPhail|       true|  397 Anderson Plaza|             Florida|        32|e1a4f985f7607bbae...|\n",
            "|   rmacvainw| 33|    Robbyn|   Macvain|       true|   630 Texas Parkway|          Washington|        33|e1a4f985f7607bbae...|\n",
            "|    bdegreyy| 35|    Binnie|   de Grey|       true|     8 Lien Crossing|            Oklahoma|        35|e1a4f985f7607bbae...|\n",
            "|phindenburgz| 36|   Phineas|Hindenburg|       true|  5865 Fulton Circle|            Kentucky|        36|e1a4f985f7607bbae...|\n",
            "|  ptugwell10| 37|   Pandora|   Tugwell|       true|   85 Killdeer Place|            Missouri|        37|e1a4f985f7607bbae...|\n",
            "|   djeduch11| 38|    Dugald|    Jeduch|       true|9037 Cherokee Street|        Pennsylvania|        38|e1a4f985f7607bbae...|\n",
            "+------------+---+----------+----------+-----------+--------------------+--------------------+----------+--------------------+\n",
            "only showing top 20 rows\n",
            "\n"
          ]
        }
      ],
      "source": [
        "# Load in a sql function to use columns\n",
        "from pyspark.sql.functions import col\n",
        "\n",
        "# Filter for only columns with active users\n",
        "cleaned_df = dropna_df.filter(col(\"active_user\")  == True)\n",
        "cleaned_df.show()"
      ]
    },
    {
      "cell_type": "code",
      "execution_count": 9,
      "metadata": {
        "colab": {
          "base_uri": "https://localhost:8080/"
        },
        "id": "qVzKY3EjmUoj",
        "outputId": "db251131-e992-4746-dae8-cb0d6236995a"
      },
      "outputs": [
        {
          "output_type": "stream",
          "name": "stdout",
          "text": [
            "+----------+----------+----------+------------+\n",
            "|billing_id|first_name| last_name|    username|\n",
            "+----------+----------+----------+------------+\n",
            "|         2|   Bastian|   Francke|   bfrancke1|\n",
            "|         4|      Zena|     Saker|     zsaker3|\n",
            "|         5|      Jere|     Argue|     jargue4|\n",
            "|         6|    Jethro|  Creeghan|  jcreeghan5|\n",
            "|         8| Anastasie|      Gant|      agant7|\n",
            "|        13|      Roth|     Anton|     rantonc|\n",
            "|        14|     Jareb|       Tod|       jtodd|\n",
            "|        18|    Carney|  Stiddard|  cstiddardh|\n",
            "|        19|    Milzie|   Blizard|   mblizardi|\n",
            "|        22|     Chuck|     Davio|     cdaviol|\n",
            "|        25|    Maisie|      Pack|      mpacko|\n",
            "|        27|   Trueman|   Spering|   tsperingq|\n",
            "|        28|   Rosalyn|  Gascoyen|  rgascoyenr|\n",
            "|        29|       Lev|     Basey|     lbaseys|\n",
            "|        32|      Jean|   McPhail|   jmcphailv|\n",
            "|        33|    Robbyn|   Macvain|   rmacvainw|\n",
            "|        35|    Binnie|   de Grey|    bdegreyy|\n",
            "|        36|   Phineas|Hindenburg|phindenburgz|\n",
            "|        37|   Pandora|   Tugwell|  ptugwell10|\n",
            "|        38|    Dugald|    Jeduch|   djeduch11|\n",
            "+----------+----------+----------+------------+\n",
            "only showing top 20 rows\n",
            "\n"
          ]
        }
      ],
      "source": [
        "# Create user dataframe to match active_user table\n",
        "clean_user_df = cleaned_df.select([\"billing_id\", \"first_name\", \"last_name\", \"username\"])\n",
        "clean_user_df.show()"
      ]
    },
    {
      "cell_type": "code",
      "execution_count": 10,
      "metadata": {
        "colab": {
          "base_uri": "https://localhost:8080/"
        },
        "id": "K6mUzCILmj9X",
        "outputId": "81c0467e-d828-4e30-bdf2-4145bf250771"
      },
      "outputs": [
        {
          "output_type": "stream",
          "name": "stdout",
          "text": [
            "+----------+--------------------+--------------------+------------+\n",
            "|billing_id|      street_address|               state|    username|\n",
            "+----------+--------------------+--------------------+------------+\n",
            "|         2|14034 Summerview ...|          Washington|   bfrancke1|\n",
            "|         4|      3605 Gina Park|          California|     zsaker3|\n",
            "|         5|        8 Hauk Court|          New Jersey|     jargue4|\n",
            "|         6|29047 Internation...|               Texas|  jcreeghan5|\n",
            "|         8|   4193 Dexter Drive|            Michigan|      agant7|\n",
            "|        13|  143 Garrison Drive|District of Columbia|     rantonc|\n",
            "|        14|      468 Vidon Lane|           Tennessee|       jtodd|\n",
            "|        18|93776 Twin Pines ...|               Texas|  cstiddardh|\n",
            "|        19|      4 Corscot Park|            Kentucky|   mblizardi|\n",
            "|        22|       33 Elka Trail|              Nevada|     cdaviol|\n",
            "|        25|0407 Northfield P...|           Minnesota|      mpacko|\n",
            "|        27|98 Rockefeller Pa...|             Florida|   tsperingq|\n",
            "|        28|27211 Trailsway D...|            Delaware|  rgascoyenr|\n",
            "|        29|  6300 Dunning Trail|          California|     lbaseys|\n",
            "|        32|  397 Anderson Plaza|             Florida|   jmcphailv|\n",
            "|        33|   630 Texas Parkway|          Washington|   rmacvainw|\n",
            "|        35|     8 Lien Crossing|            Oklahoma|    bdegreyy|\n",
            "|        36|  5865 Fulton Circle|            Kentucky|phindenburgz|\n",
            "|        37|   85 Killdeer Place|            Missouri|  ptugwell10|\n",
            "|        38|9037 Cherokee Street|        Pennsylvania|   djeduch11|\n",
            "+----------+--------------------+--------------------+------------+\n",
            "only showing top 20 rows\n",
            "\n"
          ]
        }
      ],
      "source": [
        "# Create user dataframe to match billing_info table.  \n",
        "clean_billing_df = cleaned_df.select([\"billing_id\", \"street_address\", \"state\", \"username\"])\n",
        "clean_billing_df.show()"
      ]
    },
    {
      "cell_type": "code",
      "execution_count": 11,
      "metadata": {
        "colab": {
          "base_uri": "https://localhost:8080/"
        },
        "id": "wVcL8Ub7mmaY",
        "outputId": "f0fa12e1-aea7-46f0-937e-7cea58911af0"
      },
      "outputs": [
        {
          "output_type": "stream",
          "name": "stdout",
          "text": [
            "+----------+--------------------+\n",
            "|billing_id|        cc_encrypted|\n",
            "+----------+--------------------+\n",
            "|         2|e1a4f985f7607bbae...|\n",
            "|         4|e1a4f985f7607bbae...|\n",
            "|         5|e1a4f985f7607bbae...|\n",
            "|         6|e1a4f985f7607bbae...|\n",
            "|         8|e1a4f985f7607bbae...|\n",
            "|        13|e1a4f985f7607bbae...|\n",
            "|        14|e1a4f985f7607bbae...|\n",
            "|        18|e1a4f985f7607bbae...|\n",
            "|        19|e1a4f985f7607bbae...|\n",
            "|        22|e1a4f985f7607bbae...|\n",
            "|        25|e1a4f985f7607bbae...|\n",
            "|        27|e1a4f985f7607bbae...|\n",
            "|        28|e1a4f985f7607bbae...|\n",
            "|        29|e1a4f985f7607bbae...|\n",
            "|        32|e1a4f985f7607bbae...|\n",
            "|        33|e1a4f985f7607bbae...|\n",
            "|        35|e1a4f985f7607bbae...|\n",
            "|        36|e1a4f985f7607bbae...|\n",
            "|        37|e1a4f985f7607bbae...|\n",
            "|        38|e1a4f985f7607bbae...|\n",
            "+----------+--------------------+\n",
            "only showing top 20 rows\n",
            "\n"
          ]
        }
      ],
      "source": [
        "# Create user dataframe to match payment_info table\n",
        "clean_payment_df = cleaned_df.select([\"billing_id\", \"cc_encrypted\"])\n",
        "clean_payment_df.show()"
      ]
    },
    {
      "cell_type": "markdown",
      "metadata": {
        "id": "kQgPpNnVnRwh"
      },
      "source": [
        "Postgres Setup"
      ]
    },
    {
      "cell_type": "code",
      "execution_count": 12,
      "metadata": {
        "id": "985Vl1dtmpVU"
      },
      "outputs": [],
      "source": [
        "# Configure settings for RDS\n",
        "mode = \"append\"\n",
        "jdbc_url=\"jdbc:postgresql://awsdbdemo001.cdeubephebdx.us-east-2.rds.amazonaws.com:5432/awsdemo\"\n",
        "config = {\"user\":\"postgres\", \n",
        "          \"password\": \"password\", \n",
        "          \"driver\":\"org.postgresql.Driver\"}\n"
      ]
    },
    {
      "cell_type": "markdown",
      "source": [
        "jdbc javadatabse connector--> series of libraries implemented in JAVA. used to point of dataframe to our postreSQL databse"
      ],
      "metadata": {
        "id": "nF0FBcONEHJ3"
      }
    },
    {
      "cell_type": "code",
      "execution_count": 13,
      "metadata": {
        "id": "9yyZgvcUnaNN"
      },
      "outputs": [],
      "source": [
        "# Write DataFrame to active_user table in RDS\n",
        "\n",
        "clean_user_df.write.jdbc(url=jdbc_url, table='active_user', mode=mode, properties=config)"
      ]
    },
    {
      "cell_type": "code",
      "execution_count": 14,
      "metadata": {
        "id": "8rsTf2kmna3V"
      },
      "outputs": [],
      "source": [
        "# Write dataframe to billing_info table in RDS\n",
        "\n",
        "clean_billing_df.write.jdbc(url=jdbc_url, table='billing_info', mode=mode, properties=config)"
      ]
    },
    {
      "cell_type": "code",
      "execution_count": 15,
      "metadata": {
        "id": "9q6Bm3kAncqx"
      },
      "outputs": [],
      "source": [
        "# Write dataframe to payment_info table in RDS\n",
        "\n",
        "clean_payment_df.write.jdbc(url=jdbc_url, table='payment_info', mode=mode, properties=config)"
      ]
    },
    {
      "cell_type": "code",
      "execution_count": 15,
      "metadata": {
        "id": "Kx3hMnlAD5FA"
      },
      "outputs": [],
      "source": []
    }
  ],
  "metadata": {
    "colab": {
      "provenance": [],
      "include_colab_link": true
    },
    "kernelspec": {
      "display_name": "Python 3",
      "language": "python",
      "name": "python3"
    },
    "language_info": {
      "codemirror_mode": {
        "name": "ipython",
        "version": 3
      },
      "file_extension": ".py",
      "mimetype": "text/x-python",
      "name": "python",
      "nbconvert_exporter": "python",
      "pygments_lexer": "ipython3",
      "version": "3.8.8"
    },
    "latex_envs": {
      "LaTeX_envs_menu_present": true,
      "autoclose": false,
      "autocomplete": true,
      "bibliofile": "biblio.bib",
      "cite_by": "apalike",
      "current_citInitial": 1,
      "eqLabelWithNumbers": true,
      "eqNumInitial": 1,
      "hotkeys": {
        "equation": "Ctrl-E",
        "itemize": "Ctrl-I"
      },
      "labels_anchors": false,
      "latex_user_defs": false,
      "report_style_numbering": false,
      "user_envs_cfg": false
    }
  },
  "nbformat": 4,
  "nbformat_minor": 0
}