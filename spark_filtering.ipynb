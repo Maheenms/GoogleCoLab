{
  "cells": [
    {
      "cell_type": "markdown",
      "metadata": {
        "id": "view-in-github",
        "colab_type": "text"
      },
      "source": [
        "<a href=\"https://colab.research.google.com/github/Maheenms/GoogleCoLab/blob/main/spark_filtering.ipynb\" target=\"_parent\"><img src=\"https://colab.research.google.com/assets/colab-badge.svg\" alt=\"Open In Colab\"/></a>"
      ]
    },
    {
      "cell_type": "markdown",
      "metadata": {
        "id": "gwcSTHMra-P-"
      },
      "source": [
        "## Filtering Data"
      ]
    },
    {
      "cell_type": "code",
      "execution_count": 2,
      "metadata": {
        "id": "nx-RvtVhbIdh",
        "colab": {
          "base_uri": "https://localhost:8080/"
        },
        "outputId": "b0f1b587-d992-40cb-c633-a368cd84babf"
      },
      "outputs": [
        {
          "output_type": "stream",
          "name": "stdout",
          "text": [
            "Get:1 https://cloud.r-project.org/bin/linux/ubuntu bionic-cran40/ InRelease [3,626 B]\n",
            "Ign:2 https://developer.download.nvidia.com/compute/machine-learning/repos/ubuntu1804/x86_64  InRelease\n",
            "Hit:3 https://developer.download.nvidia.com/compute/cuda/repos/ubuntu1804/x86_64  InRelease\n",
            "Get:4 http://security.ubuntu.com/ubuntu bionic-security InRelease [88.7 kB]\n",
            "Hit:5 https://developer.download.nvidia.com/compute/machine-learning/repos/ubuntu1804/x86_64  Release\n",
            "Hit:6 http://archive.ubuntu.com/ubuntu bionic InRelease\n",
            "Get:7 http://ppa.launchpad.net/c2d4u.team/c2d4u4.0+/ubuntu bionic InRelease [15.9 kB]\n",
            "Get:8 http://archive.ubuntu.com/ubuntu bionic-updates InRelease [88.7 kB]\n",
            "Hit:9 http://ppa.launchpad.net/cran/libgit2/ubuntu bionic InRelease\n",
            "Get:11 http://archive.ubuntu.com/ubuntu bionic-backports InRelease [83.3 kB]\n",
            "Hit:12 http://ppa.launchpad.net/deadsnakes/ppa/ubuntu bionic InRelease\n",
            "Hit:13 http://ppa.launchpad.net/graphics-drivers/ppa/ubuntu bionic InRelease\n",
            "Get:14 http://security.ubuntu.com/ubuntu bionic-security/main amd64 Packages [3,040 kB]\n",
            "Get:15 http://security.ubuntu.com/ubuntu bionic-security/restricted amd64 Packages [1,226 kB]\n",
            "Get:16 http://ppa.launchpad.net/c2d4u.team/c2d4u4.0+/ubuntu bionic/main Sources [2,214 kB]\n",
            "Get:17 http://archive.ubuntu.com/ubuntu bionic-updates/main amd64 Packages [3,472 kB]\n",
            "Get:18 http://ppa.launchpad.net/c2d4u.team/c2d4u4.0+/ubuntu bionic/main amd64 Packages [1,132 kB]\n",
            "Get:19 http://archive.ubuntu.com/ubuntu bionic-updates/restricted amd64 Packages [1,267 kB]\n",
            "Fetched 12.6 MB in 4s (3,030 kB/s)\n",
            "Reading package lists... Done\n"
          ]
        }
      ],
      "source": [
        "import os\n",
        "# Find the latest version of spark 3.2  from http://www.apache.org/dist/spark/ and enter as the spark version\n",
        "# For example:\n",
        "# spark_version = 'spark-3.2.2'\n",
        "spark_version = 'spark-3.2.2'\n",
        "\n",
        "os.environ['SPARK_VERSION']=spark_version\n",
        "\n",
        "# Install Spark and Java\n",
        "!apt-get update\n",
        "!apt-get install openjdk-8-jdk-headless -qq > /dev/null\n",
        "!wget -q http://www.apache.org/dist/spark/$SPARK_VERSION/$SPARK_VERSION-bin-hadoop2.7.tgz\n",
        "!tar xf $SPARK_VERSION-bin-hadoop2.7.tgz\n",
        "!pip install -q findspark\n",
        "\n",
        "# Set Environment Variables\n",
        "os.environ[\"JAVA_HOME\"] = \"/usr/lib/jvm/java-8-openjdk-amd64\"\n",
        "os.environ[\"SPARK_HOME\"] = f\"/content/{spark_version}-bin-hadoop2.7\"\n",
        "\n",
        "# Start a SparkSession\n",
        "import findspark\n",
        "findspark.init()"
      ]
    },
    {
      "cell_type": "code",
      "execution_count": 3,
      "metadata": {
        "id": "7RLRYd3QP2KF"
      },
      "outputs": [],
      "source": [
        "# Start Spark session\n",
        "from pyspark.sql import SparkSession\n",
        "spark = SparkSession.builder.appName(\"sparkFunctions\").getOrCreate()"
      ]
    },
    {
      "cell_type": "code",
      "execution_count": 4,
      "metadata": {
        "colab": {
          "base_uri": "https://localhost:8080/"
        },
        "id": "8HZ7JR0Ia-QC",
        "outputId": "60bcf69a-23c9-4d3a-b744-e281d966d8dc"
      },
      "outputs": [
        {
          "output_type": "stream",
          "name": "stdout",
          "text": [
            "+---------------+--------------+----------+---------+----------+-------------+--------------------+\n",
            "|        dish_id|total_calories|total_mass|total_fat|total_carb|total_protein|         ingredients|\n",
            "+---------------+--------------+----------+---------+----------+-------------+--------------------+\n",
            "|dish_1561662216|    300.794281|193.000000|12.387489| 28.218290|    18.633970|soy sauce; garlic...|\n",
            "|dish_1562688426|    137.569992| 88.000000| 8.256000|  5.190000|    10.297000|roasted potatoes;...|\n",
            "|dish_1561662054|    419.438782|292.000000|23.838249| 26.351543|    25.910593|pepper; white ric...|\n",
            "|dish_1562008979|    382.936646|290.000000|22.224644| 10.173570|    35.345387|jalapenos; lemon ...|\n",
            "|dish_1560455030|     20.590000|103.000000| 0.148000|  4.625000|     0.956000|cherry tomatoes; ...|\n",
            "|dish_1558372433|     74.360001|143.000000| 0.286000|  0.429000|    20.020000|          deprecated|\n",
            "|dish_1563379132|    232.050003|119.000000|14.280000| 14.280000|    10.591001|         chilaquiles|\n",
            "|dish_1565640549|     45.482903|139.000000| 1.568471|  7.043886|     2.641478|tomatoes; cilantr...|\n",
            "|dish_1563207364|    309.269989|271.000000|13.774000| 30.657000|    15.010000|scrambled eggs; y...|\n",
            "|dish_1561575474|    120.058434|183.000000| 4.966118| 17.412746|     2.990431|salt; eggplant; r...|\n",
            "|dish_1550795690|     68.119995|131.000000| 0.262000| 18.340000|     0.393000|               apple|\n",
            "|dish_1563216717|    246.007996|332.000000| 5.636517| 16.284782|    33.068710|garlic; squash; c...|\n",
            "|dish_1565972591|    195.199997|122.000000|12.200000|  3.660000|    17.080000|chicken apple sau...|\n",
            "|dish_1568649312|     44.459999| 78.000000| 0.234000| 10.920000|     0.546000|             berries|\n",
            "|dish_1550876012|    253.520004|207.000000| 4.455999| 12.460000|    38.608002|chicken; cantalou...|\n",
            "|dish_1551565034|      7.790000| 19.000000| 0.038000|  1.900000|     0.171000|              carrot|\n",
            "|dish_1550860747|     39.500000| 79.000000| 0.079000| 10.270000|     0.395000|           pineapple|\n",
            "|dish_1566245398|    506.355377|230.000000|31.183908|  4.258222|    49.023197|olive oil; lime; ...|\n",
            "|dish_1563381680|     32.459999|  6.000000| 2.520000|  0.084000|     2.220000|               bacon|\n",
            "|dish_1562183096|     41.188980| 95.000000| 2.571043|  3.280260|     2.804970|pepper; chard; bl...|\n",
            "+---------------+--------------+----------+---------+----------+-------------+--------------------+\n",
            "only showing top 20 rows\n",
            "\n"
          ]
        }
      ],
      "source": [
        "from pyspark import SparkFiles\n",
        "url =\"https://2u-data-curriculum-team.s3.amazonaws.com/dataviz-classroom/v1.1/22-big-data/day_1/nutrition.csv\"\n",
        "spark.sparkContext.addFile(url)\n",
        "df = spark.read.csv(SparkFiles.get(\"nutrition.csv\"), sep=\",\", header=True, ignoreLeadingWhiteSpace=True) #Observe the need to use ignoreLeadingWhiteSpace=True, otherwise a leading whitespace will appear in the column names\n",
        "\n",
        "# Show DataFrame\n",
        "df.show()"
      ]
    },
    {
      "cell_type": "code",
      "execution_count": 5,
      "metadata": {
        "colab": {
          "base_uri": "https://localhost:8080/"
        },
        "id": "Va2Sjj_oa-QM",
        "outputId": "d80be98c-59c4-4c8a-8782-e6eaf86b6cd6"
      },
      "outputs": [
        {
          "output_type": "stream",
          "name": "stdout",
          "text": [
            "+---------------+--------------+----------+---------+----------+-------------+-------------+\n",
            "|        dish_id|total_calories|total_mass|total_fat|total_carb|total_protein|  ingredients|\n",
            "+---------------+--------------+----------+---------+----------+-------------+-------------+\n",
            "|dish_1556575700|      0.000000| 86.000000| 0.000000|  0.000000|     0.000000|   plate only|\n",
            "|dish_1557861216|      0.000000|  1.000000| 0.000000|  0.000000|     0.000000|   plate only|\n",
            "|dish_1558461431|      1.150000|  5.000000| 0.020000|  0.180000|     0.145000|spinach (raw)|\n",
            "|dish_1558460205|      1.840000|  8.000000| 0.032000|  0.288000|     0.232000|spinach (raw)|\n",
            "|dish_1551135590|     10.000000| 25.000000| 0.050000|  2.250000|     0.500000| bell peppers|\n",
            "+---------------+--------------+----------+---------+----------+-------------+-------------+\n",
            "only showing top 5 rows\n",
            "\n"
          ]
        }
      ],
      "source": [
        "# Order a DataFrame by ascending values\n",
        "df.orderBy(df[\"total_calories\"].asc()).show(5)"
      ]
    },
    {
      "cell_type": "code",
      "execution_count": 6,
      "metadata": {
        "colab": {
          "base_uri": "https://localhost:8080/"
        },
        "id": "LJhqS-3qQFRI",
        "outputId": "d81b2ce4-9e9f-4e95-b00e-788dc82d5c33"
      },
      "outputs": [
        {
          "output_type": "stream",
          "name": "stdout",
          "text": [
            "+---------------+--------------+----------+---------+----------+-------------+--------------------+\n",
            "|        dish_id|total_calories|total_mass|total_fat|total_carb|total_protein|         ingredients|\n",
            "+---------------+--------------+----------+---------+----------+-------------+--------------------+\n",
            "|dish_1566931674|    990.989014|531.000000|76.803001| 23.140001|    58.401997|chicken; mixed gr...|\n",
            "|dish_1563476408|    990.400024|513.000000|47.925026| 55.908291|    79.199821|salmon; garlic; s...|\n",
            "|dish_1559678104|     99.962006|135.000000| 7.348568|  7.806039|     2.654628|cucumbers; olive ...|\n",
            "|dish_1558721434|     99.900002|350.000000| 0.778000| 22.713001|     3.759000|cherry tomatoes; ...|\n",
            "|dish_1565981802|     99.754425|152.000000| 5.596065|  6.631088|     8.817584|carrot; salt; tof...|\n",
            "+---------------+--------------+----------+---------+----------+-------------+--------------------+\n",
            "only showing top 5 rows\n",
            "\n"
          ]
        }
      ],
      "source": [
        "# Order a DataFrame by descending values\n",
        "df.orderBy(df[\"total_calories\"].desc()).show(5)"
      ]
    },
    {
      "cell_type": "code",
      "execution_count": 7,
      "metadata": {
        "colab": {
          "base_uri": "https://localhost:8080/"
        },
        "id": "-pREWDG0a-QQ",
        "outputId": "0da9aeb3-d8a6-4a5b-bbd0-31159f8e2ee0"
      },
      "outputs": [
        {
          "output_type": "stream",
          "name": "stdout",
          "text": [
            "+-------------------+\n",
            "|avg(total_calories)|\n",
            "+-------------------+\n",
            "| 223.98083459731635|\n",
            "+-------------------+\n",
            "\n"
          ]
        }
      ],
      "source": [
        "# Import average function\n",
        "from pyspark.sql.functions import avg\n",
        "df.select(avg(\"total_calories\")).show()"
      ]
    },
    {
      "cell_type": "code",
      "execution_count": 8,
      "metadata": {
        "colab": {
          "base_uri": "https://localhost:8080/"
        },
        "id": "Iy7YqMo7a-QU",
        "outputId": "2edfde5f-2201-4632-9323-271fc4b74beb",
        "scrolled": true
      },
      "outputs": [
        {
          "output_type": "stream",
          "name": "stdout",
          "text": [
            "+---------------+--------------+----------+---------+----------+-------------+--------------------+\n",
            "|        dish_id|total_calories|total_mass|total_fat|total_carb|total_protein|         ingredients|\n",
            "+---------------+--------------+----------+---------+----------+-------------+--------------------+\n",
            "|dish_1562688426|    137.569992| 88.000000| 8.256000|  5.190000|    10.297000|roasted potatoes;...|\n",
            "|dish_1560455030|     20.590000|103.000000| 0.148000|  4.625000|     0.956000|cherry tomatoes; ...|\n",
            "|dish_1558372433|     74.360001|143.000000| 0.286000|  0.429000|    20.020000|          deprecated|\n",
            "|dish_1565640549|     45.482903|139.000000| 1.568471|  7.043886|     2.641478|tomatoes; cilantr...|\n",
            "|dish_1561575474|    120.058434|183.000000| 4.966118| 17.412746|     2.990431|salt; eggplant; r...|\n",
            "|dish_1550795690|     68.119995|131.000000| 0.262000| 18.340000|     0.393000|               apple|\n",
            "|dish_1565972591|    195.199997|122.000000|12.200000|  3.660000|    17.080000|chicken apple sau...|\n",
            "|dish_1568649312|     44.459999| 78.000000| 0.234000| 10.920000|     0.546000|             berries|\n",
            "|dish_1551565034|      7.790000| 19.000000| 0.038000|  1.900000|     0.171000|              carrot|\n",
            "|dish_1550860747|     39.500000| 79.000000| 0.079000| 10.270000|     0.395000|           pineapple|\n",
            "|dish_1563381680|     32.459999|  6.000000| 2.520000|  0.084000|     2.220000|               bacon|\n",
            "|dish_1562183096|     41.188980| 95.000000| 2.571043|  3.280260|     2.804970|pepper; chard; bl...|\n",
            "|dish_1550778583|     67.759995| 88.000000| 0.088000| 14.960000|     1.760000|            potatoes|\n",
            "|dish_1566417398|     56.892494| 46.000000| 5.357862|  2.088042|     0.792647|mustard; vinegar;...|\n",
            "|dish_1568144828|     76.748177|152.000000| 4.168533| 10.369692|     1.329856|salt; pepper; car...|\n",
            "|dish_1550708440|     37.500000| 75.000000| 0.075000|  9.750000|     0.375000|           pineapple|\n",
            "|dish_1551307090|    171.550003| 52.000000|11.686000| 11.480000|     6.152000|potato chips; bac...|\n",
            "|dish_1562862493|    198.320007|134.000000|14.740000|  2.144000|    13.400001|      scrambled eggs|\n",
            "|dish_1558549008|     20.700001|115.000000| 0.230000|  4.485000|     1.035000|     cherry tomatoes|\n",
            "|dish_1551226363|     17.150000| 49.000000| 0.196000|  3.430000|     1.176000|            broccoli|\n",
            "+---------------+--------------+----------+---------+----------+-------------+--------------------+\n",
            "only showing top 20 rows\n",
            "\n"
          ]
        }
      ],
      "source": [
        "# Using filter\n",
        "df.filter(\"total_calories<200\").show()"
      ]
    },
    {
      "cell_type": "code",
      "execution_count": 9,
      "metadata": {
        "colab": {
          "base_uri": "https://localhost:8080/"
        },
        "id": "ww7emkaea-QY",
        "outputId": "e960b7cb-d2fe-4092-9326-ee3aa08bff9e"
      },
      "outputs": [
        {
          "output_type": "stream",
          "name": "stdout",
          "text": [
            "+----------+---------+----------+-------------+\n",
            "|total_mass|total_fat|total_carb|total_protein|\n",
            "+----------+---------+----------+-------------+\n",
            "| 88.000000| 8.256000|  5.190000|    10.297000|\n",
            "|103.000000| 0.148000|  4.625000|     0.956000|\n",
            "|143.000000| 0.286000|  0.429000|    20.020000|\n",
            "|139.000000| 1.568471|  7.043886|     2.641478|\n",
            "|183.000000| 4.966118| 17.412746|     2.990431|\n",
            "|131.000000| 0.262000| 18.340000|     0.393000|\n",
            "|122.000000|12.200000|  3.660000|    17.080000|\n",
            "| 78.000000| 0.234000| 10.920000|     0.546000|\n",
            "| 19.000000| 0.038000|  1.900000|     0.171000|\n",
            "| 79.000000| 0.079000| 10.270000|     0.395000|\n",
            "|  6.000000| 2.520000|  0.084000|     2.220000|\n",
            "| 95.000000| 2.571043|  3.280260|     2.804970|\n",
            "| 88.000000| 0.088000| 14.960000|     1.760000|\n",
            "| 46.000000| 5.357862|  2.088042|     0.792647|\n",
            "|152.000000| 4.168533| 10.369692|     1.329856|\n",
            "| 75.000000| 0.075000|  9.750000|     0.375000|\n",
            "| 52.000000|11.686000| 11.480000|     6.152000|\n",
            "|134.000000|14.740000|  2.144000|    13.400001|\n",
            "|115.000000| 0.230000|  4.485000|     1.035000|\n",
            "| 49.000000| 0.196000|  3.430000|     1.176000|\n",
            "+----------+---------+----------+-------------+\n",
            "only showing top 20 rows\n",
            "\n"
          ]
        }
      ],
      "source": [
        "# Filter by total_calories on certain columns\n",
        "df.filter(\"total_calories<200\").select(['total_mass','total_fat', 'total_carb','total_protein']).show() #excludes the last column (ingredients)"
      ]
    },
    {
      "cell_type": "markdown",
      "metadata": {
        "id": "WPuwAnZ_a-Qc"
      },
      "source": [
        "### Using Python Comparison Operators"
      ]
    },
    {
      "cell_type": "code",
      "execution_count": 10,
      "metadata": {
        "colab": {
          "base_uri": "https://localhost:8080/"
        },
        "id": "6WYZQGNIa-Qd",
        "outputId": "142ed479-e747-45c9-d401-f732d99aa40c"
      },
      "outputs": [
        {
          "output_type": "stream",
          "name": "stdout",
          "text": [
            "+---------------+--------------+----------+---------+----------+-------------+--------------------+\n",
            "|        dish_id|total_calories|total_mass|total_fat|total_carb|total_protein|         ingredients|\n",
            "+---------------+--------------+----------+---------+----------+-------------+--------------------+\n",
            "|dish_1562688426|    137.569992| 88.000000| 8.256000|  5.190000|    10.297000|roasted potatoes;...|\n",
            "|dish_1560455030|     20.590000|103.000000| 0.148000|  4.625000|     0.956000|cherry tomatoes; ...|\n",
            "|dish_1558372433|     74.360001|143.000000| 0.286000|  0.429000|    20.020000|          deprecated|\n",
            "|dish_1565640549|     45.482903|139.000000| 1.568471|  7.043886|     2.641478|tomatoes; cilantr...|\n",
            "|dish_1561575474|    120.058434|183.000000| 4.966118| 17.412746|     2.990431|salt; eggplant; r...|\n",
            "|dish_1550795690|     68.119995|131.000000| 0.262000| 18.340000|     0.393000|               apple|\n",
            "|dish_1565972591|    195.199997|122.000000|12.200000|  3.660000|    17.080000|chicken apple sau...|\n",
            "|dish_1568649312|     44.459999| 78.000000| 0.234000| 10.920000|     0.546000|             berries|\n",
            "|dish_1551565034|      7.790000| 19.000000| 0.038000|  1.900000|     0.171000|              carrot|\n",
            "|dish_1550860747|     39.500000| 79.000000| 0.079000| 10.270000|     0.395000|           pineapple|\n",
            "|dish_1563381680|     32.459999|  6.000000| 2.520000|  0.084000|     2.220000|               bacon|\n",
            "|dish_1562183096|     41.188980| 95.000000| 2.571043|  3.280260|     2.804970|pepper; chard; bl...|\n",
            "|dish_1550778583|     67.759995| 88.000000| 0.088000| 14.960000|     1.760000|            potatoes|\n",
            "|dish_1566417398|     56.892494| 46.000000| 5.357862|  2.088042|     0.792647|mustard; vinegar;...|\n",
            "|dish_1568144828|     76.748177|152.000000| 4.168533| 10.369692|     1.329856|salt; pepper; car...|\n",
            "|dish_1550708440|     37.500000| 75.000000| 0.075000|  9.750000|     0.375000|           pineapple|\n",
            "|dish_1551307090|    171.550003| 52.000000|11.686000| 11.480000|     6.152000|potato chips; bac...|\n",
            "|dish_1562862493|    198.320007|134.000000|14.740000|  2.144000|    13.400001|      scrambled eggs|\n",
            "|dish_1558549008|     20.700001|115.000000| 0.230000|  4.485000|     1.035000|     cherry tomatoes|\n",
            "|dish_1551226363|     17.150000| 49.000000| 0.196000|  3.430000|     1.176000|            broccoli|\n",
            "+---------------+--------------+----------+---------+----------+-------------+--------------------+\n",
            "only showing top 20 rows\n",
            "\n"
          ]
        }
      ],
      "source": [
        "# Same results only this time using python\n",
        "df.filter(df[\"total_calories\"] < 200).show()"
      ]
    },
    {
      "cell_type": "code",
      "execution_count": 11,
      "metadata": {
        "colab": {
          "base_uri": "https://localhost:8080/"
        },
        "id": "JK41k68oa-Qh",
        "outputId": "b3d460ea-8213-4082-c206-c38e43ab99b1"
      },
      "outputs": [
        {
          "output_type": "stream",
          "name": "stdout",
          "text": [
            "+---------------+--------------+----------+---------+----------+-------------+--------------------+\n",
            "|        dish_id|total_calories|total_mass|total_fat|total_carb|total_protein|         ingredients|\n",
            "+---------------+--------------+----------+---------+----------+-------------+--------------------+\n",
            "|dish_1561662216|    300.794281|193.000000|12.387489| 28.218290|    18.633970|soy sauce; garlic...|\n",
            "|dish_1562688426|    137.569992| 88.000000| 8.256000|  5.190000|    10.297000|roasted potatoes;...|\n",
            "|dish_1561662054|    419.438782|292.000000|23.838249| 26.351543|    25.910593|pepper; white ric...|\n",
            "|dish_1562008979|    382.936646|290.000000|22.224644| 10.173570|    35.345387|jalapenos; lemon ...|\n",
            "|dish_1560455030|     20.590000|103.000000| 0.148000|  4.625000|     0.956000|cherry tomatoes; ...|\n",
            "|dish_1558372433|     74.360001|143.000000| 0.286000|  0.429000|    20.020000|          deprecated|\n",
            "|dish_1563379132|    232.050003|119.000000|14.280000| 14.280000|    10.591001|         chilaquiles|\n",
            "|dish_1565640549|     45.482903|139.000000| 1.568471|  7.043886|     2.641478|tomatoes; cilantr...|\n",
            "|dish_1563207364|    309.269989|271.000000|13.774000| 30.657000|    15.010000|scrambled eggs; y...|\n",
            "|dish_1561575474|    120.058434|183.000000| 4.966118| 17.412746|     2.990431|salt; eggplant; r...|\n",
            "|dish_1550795690|     68.119995|131.000000| 0.262000| 18.340000|     0.393000|               apple|\n",
            "|dish_1563216717|    246.007996|332.000000| 5.636517| 16.284782|    33.068710|garlic; squash; c...|\n",
            "|dish_1565972591|    195.199997|122.000000|12.200000|  3.660000|    17.080000|chicken apple sau...|\n",
            "|dish_1568649312|     44.459999| 78.000000| 0.234000| 10.920000|     0.546000|             berries|\n",
            "|dish_1550876012|    253.520004|207.000000| 4.455999| 12.460000|    38.608002|chicken; cantalou...|\n",
            "|dish_1551565034|      7.790000| 19.000000| 0.038000|  1.900000|     0.171000|              carrot|\n",
            "|dish_1550860747|     39.500000| 79.000000| 0.079000| 10.270000|     0.395000|           pineapple|\n",
            "|dish_1566245398|    506.355377|230.000000|31.183908|  4.258222|    49.023197|olive oil; lime; ...|\n",
            "|dish_1563381680|     32.459999|  6.000000| 2.520000|  0.084000|     2.220000|               bacon|\n",
            "|dish_1562183096|     41.188980| 95.000000| 2.571043|  3.280260|     2.804970|pepper; chard; bl...|\n",
            "+---------------+--------------+----------+---------+----------+-------------+--------------------+\n",
            "only showing top 20 rows\n",
            "\n"
          ]
        }
      ],
      "source": [
        "df.filter( (df[\"total_calories\"] < 200) | (df['total_mass'] > 80) ).show() #You may try & to compare the difference"
      ]
    },
    {
      "cell_type": "code",
      "execution_count": 12,
      "metadata": {
        "colab": {
          "base_uri": "https://localhost:8080/"
        },
        "id": "bmlEBelya-Qo",
        "outputId": "66295d95-e3e5-4cf7-fb1e-96dfdc3240dd"
      },
      "outputs": [
        {
          "output_type": "stream",
          "name": "stdout",
          "text": [
            "+---------------+--------------+----------+---------+----------+-------------+-----------+\n",
            "|        dish_id|total_calories|total_mass|total_fat|total_carb|total_protein|ingredients|\n",
            "+---------------+--------------+----------+---------+----------+-------------+-----------+\n",
            "|dish_1563381680|     32.459999|  6.000000| 2.520000|  0.084000|     2.220000|      bacon|\n",
            "|dish_1559319860|     70.330002| 13.000000| 5.460000|  0.182000|     4.810000|      bacon|\n",
            "|dish_1562086702|    178.529999| 33.000000|13.860000|  0.462000|    12.210000|      bacon|\n",
            "|dish_1551391710|    102.789993| 19.000000| 7.980000|  0.266000|     7.030000|      bacon|\n",
            "|dish_1564073860|    492.309998| 91.000000|38.219997|  1.274000|    33.670002|      bacon|\n",
            "|dish_1550776767|     81.149994| 15.000000| 6.300000|  0.210000|     5.550000|      bacon|\n",
            "|dish_1558032156|    140.660004| 26.000000|10.920000|  0.364000|     9.620000|      bacon|\n",
            "|dish_1551136683|     70.330002| 13.000000| 5.460000|  0.182000|     4.810000|      bacon|\n",
            "|dish_1550769483|    113.610001| 21.000000| 8.820000|  0.294000|     7.770000|      bacon|\n",
            "|dish_1565974375|    459.849976| 85.000000|35.700001|  1.190000|    31.450001|      bacon|\n",
            "|dish_1559059954|    108.199997| 20.000000| 8.400000|  0.280000|     7.400000|      bacon|\n",
            "|dish_1558031566|    140.660004| 26.000000|10.920000|  0.364000|     9.620000|      bacon|\n",
            "|dish_1551306860|     59.509998| 11.000000| 4.620000|  0.154000|     4.070000|      bacon|\n",
            "|dish_1551124637|    108.199997| 20.000000| 8.400000|  0.280000|     7.400000|      bacon|\n",
            "|dish_1562603536|     75.739998| 14.000000| 5.880000|  0.196000|     5.180000|      bacon|\n",
            "|dish_1559838214|     43.279999|  8.000000| 3.360000|  0.112000|     2.960000|      bacon|\n",
            "|dish_1558026714|    129.839996| 24.000000|10.080000|  0.336000|     8.880000|      bacon|\n",
            "|dish_1559232986|    189.349991| 35.000000|14.700000|  0.490000|    12.950000|      bacon|\n",
            "|dish_1561997248|    113.610001| 21.000000| 8.820000|  0.294000|     7.770000|      bacon|\n",
            "|dish_1550771191|     81.149994| 15.000000| 6.300000|  0.210000|     5.550000|      bacon|\n",
            "+---------------+--------------+----------+---------+----------+-------------+-----------+\n",
            "only showing top 20 rows\n",
            "\n"
          ]
        }
      ],
      "source": [
        "df.filter(df[\"ingredients\"] == \"bacon\").show()"
      ]
    }
  ],
  "metadata": {
    "anaconda-cloud": {},
    "colab": {
      "collapsed_sections": [],
      "provenance": [],
      "include_colab_link": true
    },
    "kernelspec": {
      "display_name": "Python 3",
      "language": "python",
      "name": "python3"
    },
    "language_info": {
      "codemirror_mode": {
        "name": "ipython",
        "version": 3
      },
      "file_extension": ".py",
      "mimetype": "text/x-python",
      "name": "python",
      "nbconvert_exporter": "python",
      "pygments_lexer": "ipython3",
      "version": "3.8.8"
    },
    "varInspector": {
      "cols": {
        "lenName": 16,
        "lenType": 16,
        "lenVar": 40
      },
      "kernels_config": {
        "python": {
          "delete_cmd_postfix": "",
          "delete_cmd_prefix": "del ",
          "library": "var_list.py",
          "varRefreshCmd": "print(var_dic_list())"
        },
        "r": {
          "delete_cmd_postfix": ") ",
          "delete_cmd_prefix": "rm(",
          "library": "var_list.r",
          "varRefreshCmd": "cat(var_dic_list()) "
        }
      },
      "types_to_exclude": [
        "module",
        "function",
        "builtin_function_or_method",
        "instance",
        "_Feature"
      ],
      "window_display": false
    }
  },
  "nbformat": 4,
  "nbformat_minor": 0
}